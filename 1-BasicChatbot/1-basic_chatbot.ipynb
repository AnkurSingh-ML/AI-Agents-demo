{
 "cells": [
  {
   "cell_type": "markdown",
   "id": "e93bf66c",
   "metadata": {},
   "source": [
    "### Build a Basic Chatbot with LangGraph (Graph API)"
   ]
  },
  {
   "cell_type": "code",
   "execution_count": 2,
   "id": "7187d5c8",
   "metadata": {},
   "outputs": [],
   "source": [
    "from typing import Annotated\n",
    "\n",
    "from typing_extensions import TypedDict\n",
    "\n",
    "from langgraph.graph import StateGraph, START, END # for buildig a StateGraph\n",
    "from langgraph.graph.message import add_messages"
   ]
  },
  {
   "cell_type": "code",
   "execution_count": 3,
   "id": "f913ce83",
   "metadata": {},
   "outputs": [],
   "source": [
    "class State(TypedDict):\n",
    "    \"\"\"\n",
    "    Its type is a simple dictionary\n",
    "    \"\"\"\n",
    "    messages : Annotated[list, add_messages]"
   ]
  },
  {
   "cell_type": "code",
   "execution_count": 4,
   "id": "340dfde9",
   "metadata": {},
   "outputs": [
    {
     "data": {
      "text/plain": [
       "True"
      ]
     },
     "execution_count": 4,
     "metadata": {},
     "output_type": "execute_result"
    }
   ],
   "source": [
    "import os\n",
    "from dotenv import load_dotenv\n",
    "load_dotenv()"
   ]
  },
  {
   "cell_type": "code",
   "execution_count": 5,
   "id": "397f29b6",
   "metadata": {},
   "outputs": [
    {
     "data": {
      "text/plain": [
       "ChatGroq(client=<groq.resources.chat.completions.Completions object at 0x000001A554185ED0>, async_client=<groq.resources.chat.completions.AsyncCompletions object at 0x000001A5542DDED0>, model_name='llama-3.1-8b-instant', model_kwargs={}, groq_api_key=SecretStr('**********'))"
      ]
     },
     "execution_count": 5,
     "metadata": {},
     "output_type": "execute_result"
    }
   ],
   "source": [
    "# First way to use a LLM Model\n",
    "from langchain_groq import ChatGroq\n",
    "\n",
    "llm = ChatGroq(model=\"llama-3.1-8b-instant\")\n",
    "llm"
   ]
  },
  {
   "cell_type": "code",
   "execution_count": 6,
   "id": "7ab3fa42",
   "metadata": {},
   "outputs": [
    {
     "data": {
      "text/plain": [
       "ChatGroq(client=<groq.resources.chat.completions.Completions object at 0x000001A5542FAB50>, async_client=<groq.resources.chat.completions.AsyncCompletions object at 0x000001A5542FB790>, model_name='llama-3.1-8b-instant', model_kwargs={}, groq_api_key=SecretStr('**********'))"
      ]
     },
     "execution_count": 6,
     "metadata": {},
     "output_type": "execute_result"
    }
   ],
   "source": [
    "# Second and more commom way to use any Model\n",
    "from langchain.chat_models import init_chat_model\n",
    "llm = init_chat_model(\"groq:llama-3.1-8b-instant\")\n",
    "llm"
   ]
  },
  {
   "cell_type": "code",
   "execution_count": 7,
   "id": "9f4f03dc",
   "metadata": {},
   "outputs": [],
   "source": [
    "# Creating a New Node in StateGraph\n",
    "# In every Node we have to create the definition of the Node --> Node Functionality\n",
    "\n",
    "def chatbot(state: State):\n",
    "    return {\"messages\" : llm.invoke(state[\"messages\"])}"
   ]
  },
  {
   "cell_type": "code",
   "execution_count": 8,
   "id": "b95f4959",
   "metadata": {},
   "outputs": [],
   "source": [
    "# Starting to Build our Graph\n",
    "\n",
    "graph_builder = StateGraph(State)\n",
    "\n",
    "# Adding a node\n",
    "graph_builder.add_node(\"llmchatbot\", chatbot)\n",
    "\n",
    "# Adding an edge\n",
    "graph_builder.add_edge(START, \"llmchatbot\")\n",
    "graph_builder.add_edge(\"llmchatbot\", END)\n",
    "\n",
    "# Compilation of Graph\n",
    "graph = graph_builder.compile()"
   ]
  },
  {
   "cell_type": "code",
   "execution_count": 9,
   "id": "a3c0c440",
   "metadata": {},
   "outputs": [
    {
     "data": {
      "image/png": "[encoded data removed]",
      "text/plain": [
       "<IPython.core.display.Image object>"
      ]
     },
     "metadata": {},
     "output_type": "display_data"
    }
   ],
   "source": [
    "## Visualizing the StateGraph\n",
    "from IPython.display import Image, display\n",
    "\n",
    "try:\n",
    "    display(Image(graph.get_graph().draw_mermaid_png()))\n",
    "except Exception as err:\n",
    "    print(err)\n"
   ]
  },
  {
   "cell_type": "code",
   "execution_count": 10,
   "id": "b4e6638e",
   "metadata": {},
   "outputs": [],
   "source": [
    "response = graph.invoke({\"messages\":\"Hi\"})"
   ]
  },
  {
   "cell_type": "code",
   "execution_count": 11,
   "id": "1c82fdb1",
   "metadata": {},
   "outputs": [
    {
     "data": {
      "text/plain": [
       "\"It's nice to meet you. Is there something I can help you with or would you like to chat?\""
      ]
     },
     "execution_count": 11,
     "metadata": {},
     "output_type": "execute_result"
    }
   ],
   "source": [
    "response[\"messages\"][-1].content"
   ]
  },
  {
   "cell_type": "code",
   "execution_count": 12,
   "id": "b33733f3",
   "metadata": {},
   "outputs": [
    {
     "name": "stdout",
     "output_type": "stream",
     "text": [
      "{'llmchatbot': {'messages': AIMessage(content=\"I'm doing well, thank you for asking. I'm a large language model, so I don't have feelings or emotions like humans do, but I'm here and ready to help with any questions or topics you'd like to discuss. How about you? How's your day going so far?\", additional_kwargs={}, response_metadata={'token_usage': {'completion_tokens': 61, 'prompt_tokens': 40, 'total_tokens': 101, 'completion_time': 0.061712849, 'prompt_time': 0.011598084, 'queue_time': 0.488249827, 'total_time': 0.073310933}, 'model_name': 'llama-3.1-8b-instant', 'system_fingerprint': 'fp_510c177af0', 'service_tier': 'on_demand', 'finish_reason': 'stop', 'logprobs': None}, id='run--791d68a1-d0ab-40e4-b30e-2f2f3f305c4a-0', usage_metadata={'input_tokens': 40, 'output_tokens': 61, 'total_tokens': 101})}}\n"
     ]
    }
   ],
   "source": [
    "for event in graph.stream({\"messages\" : \"Hi How are you?\"}):\n",
    "    print(event)"
   ]
  },
  {
   "cell_type": "code",
   "execution_count": 13,
   "id": "c5e833b3",
   "metadata": {},
   "outputs": [
    {
     "name": "stdout",
     "output_type": "stream",
     "text": [
      "I'm not a boy or a girl. I'm a computer program designed to assist and communicate with humans. I'm a language model, which means I don't have a physical body or a personal identity in the classical sense. I exist solely to provide information, answer questions, and help with tasks to the best of my abilities. So, I'm more like a tool or a machine, rather than a boy or a girl.\n"
     ]
    }
   ],
   "source": [
    "for event in graph.stream({\"messages\" : \"Hello, Are you a boy?\"}):\n",
    "    for value in event.values():\n",
    "        print(value[\"messages\"].content)"
   ]
  },
  {
   "cell_type": "markdown",
   "id": "8486d162",
   "metadata": {},
   "source": [
    "## Chatbot With Tools"
   ]
  },
  {
   "cell_type": "code",
   "execution_count": 14,
   "id": "a2efbc5a",
   "metadata": {},
   "outputs": [
    {
     "data": {
      "text/plain": [
       "{'query': 'What is Langgraph?',\n",
       " 'follow_up_questions': None,\n",
       " 'answer': None,\n",
       " 'images': [],\n",
       " 'results': [{'url': 'https://www.datacamp.com/tutorial/langgraph-tutorial',\n",
       "   'title': 'LangGraph Tutorial: What Is LangGraph and How to Use It?',\n",
       "   'content': 'LangGraph is a library within the LangChain ecosystem that provides a framework for defining, coordinating, and executing multiple LLM agents (or chains) in a structured and efficient manner. By managing the flow of data and the sequence of operations, LangGraph allows developers to focus on the high-level logic of their applications rather than the intricacies of agent coordination. Whether you need a chatbot that can handle various types of user requests or a multi-agent system that performs complex tasks, LangGraph provides the tools to build exactly what you need. LangGraph significantly simplifies the development of complex LLM applications by providing a structured framework for managing state and coordinating agent interactions.',\n",
       "   'score': 0.9516526,\n",
       "   'raw_content': None},\n",
       "  {'url': 'https://www.ibm.com/think/topics/langgraph',\n",
       "   'title': 'What is LangGraph? - IBM',\n",
       "   'content': 'LangGraph, created by LangChain, is an open source AI agent framework designed to build, deploy and manage complex generative AI agent workflows. At its core, LangGraph uses the power of graph-based architectures to model and manage the intricate relationships between various components of an AI agent workflow. LangGraph illuminates the processes within an AI workflow, allowing full transparency of the agent’s state. By combining these technologies with a set of APIs and tools, LangGraph provides users with a versatile platform for developing AI solutions and workflows including chatbots, state graphs and other agent-based systems. Nodes: In LangGraph, nodes represent individual components or agents within an AI workflow. LangGraph uses enhanced decision-making by modeling complex relationships between nodes, which means it uses AI agents to analyze their past actions and feedback.',\n",
       "   'score': 0.94726914,\n",
       "   'raw_content': None}],\n",
       " 'response_time': 1.03}"
      ]
     },
     "execution_count": 14,
     "metadata": {},
     "output_type": "execute_result"
    }
   ],
   "source": [
    "from langchain_tavily import TavilySearch\n",
    "\n",
    "tool = TavilySearch(max_results=2)\n",
    "tool.invoke(\"What is Langgraph?\")"
   ]
  },
  {
   "cell_type": "code",
   "execution_count": 15,
   "id": "82782bf2",
   "metadata": {},
   "outputs": [],
   "source": [
    "## Custom function\n",
    "\n",
    "def multiply(a: int, b: int)-> int:\n",
    "    \"\"\"Multiply a and b\n",
    "\n",
    "    Args:\n",
    "        a (int) : First Integer\n",
    "        b (int) : Second Integer\n",
    "\n",
    "    Returns:\n",
    "        int : product of a and b\n",
    "    \"\"\"\n",
    "    print(\"Using multiply func\")\n",
    "    return a*b"
   ]
  },
  {
   "cell_type": "code",
   "execution_count": 16,
   "id": "05a1f654",
   "metadata": {},
   "outputs": [],
   "source": [
    "tools = [tool, multiply]"
   ]
  },
  {
   "cell_type": "code",
   "execution_count": 17,
   "id": "027f7b51",
   "metadata": {},
   "outputs": [
    {
     "data": {
      "text/plain": [
       "RunnableBinding(bound=ChatGroq(client=<groq.resources.chat.completions.Completions object at 0x000001A5542FAB50>, async_client=<groq.resources.chat.completions.AsyncCompletions object at 0x000001A5542FB790>, model_name='llama-3.1-8b-instant', model_kwargs={}, groq_api_key=SecretStr('**********')), kwargs={'tools': [{'type': 'function', 'function': {'name': 'tavily_search', 'description': 'A search engine optimized for comprehensive, accurate, and trusted results. Useful for when you need to answer questions about current events. It not only retrieves URLs and snippets, but offers advanced search depths, domain management, time range filters, and image search, this tool delivers real-time, accurate, and citation-backed results.Input should be a search query.', 'parameters': {'properties': {'query': {'description': 'Search query to look up', 'type': 'string'}, 'include_domains': {'anyOf': [{'items': {'type': 'string'}, 'type': 'array'}, {'type': 'null'}], 'default': [], 'description': 'A list of domains to restrict search results to.\\n\\n        Use this parameter when:\\n        1. The user explicitly requests information from specific websites (e.g., \"Find climate data from nasa.gov\")\\n        2. The user mentions an organization or company without specifying the domain (e.g., \"Find information about iPhones from Apple\")\\n\\n        In both cases, you should determine the appropriate domains (e.g., [\"nasa.gov\"] or [\"apple.com\"]) and set this parameter.\\n\\n        Results will ONLY come from the specified domains - no other sources will be included.\\n        Default is None (no domain restriction).\\n        '}, 'exclude_domains': {'anyOf': [{'items': {'type': 'string'}, 'type': 'array'}, {'type': 'null'}], 'default': [], 'description': 'A list of domains to exclude from search results.\\n\\n        Use this parameter when:\\n        1. The user explicitly requests to avoid certain websites (e.g., \"Find information about climate change but not from twitter.com\")\\n        2. The user mentions not wanting results from specific organizations without naming the domain (e.g., \"Find phone reviews but nothing from Apple\")\\n\\n        In both cases, you should determine the appropriate domains to exclude (e.g., [\"twitter.com\"] or [\"apple.com\"]) and set this parameter.\\n\\n        Results will filter out all content from the specified domains.\\n        Default is None (no domain exclusion).\\n        '}, 'search_depth': {'anyOf': [{'enum': ['basic', 'advanced'], 'type': 'string'}, {'type': 'null'}], 'default': 'basic', 'description': 'Controls search thoroughness and result comprehensiveness.\\n    \\n        Use \"basic\" for simple queries requiring quick, straightforward answers.\\n        \\n        Use \"advanced\" (default) for complex queries, specialized topics, \\n        rare information, or when in-depth analysis is needed.\\n        '}, 'include_images': {'anyOf': [{'type': 'boolean'}, {'type': 'null'}], 'default': False, 'description': 'Determines if the search returns relevant images along with text results.\\n   \\n        Set to True when the user explicitly requests visuals or when images would \\n        significantly enhance understanding (e.g., \"Show me what black holes look like,\" \\n        \"Find pictures of Renaissance art\").\\n        \\n        Leave as False (default) for most informational queries where text is sufficient.\\n        '}, 'time_range': {'anyOf': [{'enum': ['day', 'week', 'month', 'year'], 'type': 'string'}, {'type': 'null'}], 'default': None, 'description': 'Limits results to content published within a specific timeframe.\\n        \\n        ONLY set this when the user explicitly mentions a time period \\n        (e.g., \"latest AI news,\" \"articles from last week\").\\n        \\n        For less popular or niche topics, use broader time ranges \\n        (\"month\" or \"year\") to ensure sufficient relevant results.\\n   \\n        Options: \"day\" (24h), \"week\" (7d), \"month\" (30d), \"year\" (365d).\\n        \\n        Default is None.\\n        '}, 'topic': {'anyOf': [{'enum': ['general', 'news', 'finance'], 'type': 'string'}, {'type': 'null'}], 'default': 'general', 'description': 'Specifies search category for optimized results.\\n   \\n        Use \"general\" (default) for most queries, INCLUDING those with terms like \\n        \"latest,\" \"newest,\" or \"recent\" when referring to general information.\\n\\n        Use \"finance\" for markets, investments, economic data, or financial news.\\n\\n        Use \"news\" ONLY for politics, sports, or major current events covered by \\n        mainstream media - NOT simply because a query asks for \"new\" information.\\n        '}, 'include_favicon': {'anyOf': [{'type': 'boolean'}, {'type': 'null'}], 'default': False, 'description': \"Determines whether to include favicon URLs for each search result.\\n        \\n        When enabled, each search result will include the website's favicon URL,\\n        which can be useful for:\\n        - Building rich UI interfaces with visual website indicators\\n        - Providing visual cues about the source's credibility or brand\\n        - Creating bookmark-like displays with recognizable site icons\\n        \\n        Set to True when creating user interfaces that benefit from visual branding\\n        or when favicon information enhances the user experience.\\n        \\n        Default is False to minimize response size and API usage.\\n        \"}, 'start_date': {'anyOf': [{'type': 'string'}, {'type': 'null'}], 'default': None, 'description': 'Filters search results to include only content published on or after this date.\\n        \\n        Use this parameter when you need to:\\n        - Find recent developments or updates on a topic\\n        - Exclude outdated information from search results\\n        - Focus on content within a specific timeframe\\n        - Combine with end_date to create a custom date range\\n        \\n        Format must be YYYY-MM-DD (e.g., \"2024-01-15\" for January 15, 2024).\\n        \\n        Examples:\\n        - \"2024-01-01\" - Results from January 1, 2024 onwards\\n        - \"2023-12-25\" - Results from December 25, 2023 onwards\\n        \\n        When combined with end_date, creates a precise date range filter.\\n        \\n        Default is None (no start date restriction).\\n        '}, 'end_date': {'anyOf': [{'type': 'string'}, {'type': 'null'}], 'default': None, 'description': 'Filters search results to include only content published on or before this date.\\n        \\n        Use this parameter when you need to:\\n        - Exclude content published after a certain date\\n        - Study historical information or past events\\n        - Research how topics were covered during specific time periods\\n        - Combine with start_date to create a custom date range\\n        \\n        Format must be YYYY-MM-DD (e.g., \"2024-03-31\" for March 31, 2024).\\n        \\n        Examples:\\n        - \"2024-03-31\" - Results up to and including March 31, 2024\\n        - \"2023-12-31\" - Results up to and including December 31, 2023\\n        \\n        When combined with start_date, creates a precise date range filter.\\n        For example: start_date=\"2024-01-01\", end_date=\"2024-03-31\" \\n        returns results from Q1 2024 only.\\n        \\n        Default is None (no end date restriction).\\n        '}}, 'required': ['query'], 'type': 'object'}}}, {'type': 'function', 'function': {'name': 'multiply', 'description': 'Multiply a and b', 'parameters': {'properties': {'a': {'description': 'First Integer', 'type': 'integer'}, 'b': {'description': 'Second Integer', 'type': 'integer'}}, 'required': ['a', 'b'], 'type': 'object'}}}]}, config={}, config_factories=[])"
      ]
     },
     "execution_count": 17,
     "metadata": {},
     "output_type": "execute_result"
    }
   ],
   "source": [
    "llm_with_tool = llm.bind_tools(tools)\n",
    "llm_with_tool"
   ]
  },
  {
   "cell_type": "code",
   "execution_count": 40,
   "id": "728e444f",
   "metadata": {},
   "outputs": [],
   "source": [
    "## Creating StateGraph\n",
    "from langgraph.graph import StateGraph, START, END\n",
    "from langgraph.prebuilt import ToolNode, tools_condition\n",
    "\n",
    "## node Definition\n",
    "def tool_calling_llm(state: State):\n",
    "    return {\"messages\" : llm_with_tool.invoke(state[\"messages\"])}\n",
    "\n",
    "## Graph\n",
    "builder = StateGraph(State)\n",
    "builder.add_node(\"tool_calling_llm\", tool_calling_llm)\n",
    "builder.add_node(\"tools\", ToolNode(tools))\n",
    "\n",
    "## Adding the Edges\n",
    "builder.add_edge(START, \"tool_calling_llm\")\n",
    "builder.add_conditional_edges(\n",
    "    \"tool_calling_llm\",\n",
    "    # If the latest message (result) from assistant is a tool call -> tools_condition routes to tools.\n",
    "    # If the latest message (result) from assistant is not a tool call -> tools_condition routes to END.\n",
    "    tools_condition\n",
    ")\n",
    "builder.add_edge(\"tools\", END)\n",
    "\n",
    "# Compile the Graph\n",
    "graph = builder.compile()"
   ]
  },
  {
   "cell_type": "code",
   "execution_count": 41,
   "id": "a3440ade",
   "metadata": {},
   "outputs": [
    {
     "data": {
      "image/png": "[encoded data removed]",
      "text/plain": [
       "<IPython.core.display.Image object>"
      ]
     },
     "metadata": {},
     "output_type": "display_data"
    }
   ],
   "source": [
    "display(Image(graph.get_graph().draw_mermaid_png()))"
   ]
  },
  {
   "cell_type": "code",
   "execution_count": 42,
   "id": "bcd019ca",
   "metadata": {},
   "outputs": [],
   "source": [
    "response = graph.invoke({\"messages\" : \"What is the Recent TCS News?\"})"
   ]
  },
  {
   "cell_type": "code",
   "execution_count": 43,
   "id": "687bfdeb",
   "metadata": {},
   "outputs": [
    {
     "data": {
      "text/plain": [
       "{'messages': [HumanMessage(content='What is the Recent TCS News?', additional_kwargs={}, response_metadata={}, id='9cb5d1ef-4b1a-4606-b05b-b1faeda61996'),\n",
       "  AIMessage(content='', additional_kwargs={'tool_calls': [{'id': '1hv5gzw4w', 'function': {'arguments': '{\"end_date\":null,\"exclude_domains\":null,\"include_domains\":null,\"include_favicon\":null,\"include_images\":null,\"query\":\"Recent TCS News\",\"search_depth\":\"advanced\",\"start_date\":null,\"time_range\":null,\"topic\":\"news\"}', 'name': 'tavily_search'}, 'type': 'function'}]}, response_metadata={'token_usage': {'completion_tokens': 74, 'prompt_tokens': 1857, 'total_tokens': 1931, 'completion_time': 0.099765274, 'prompt_time': 0.073507376, 'queue_time': 3.025685148, 'total_time': 0.17327265, 'prompt_tokens_details': {'cached_tokens': 1536}}, 'model_name': 'llama-3.1-8b-instant', 'system_fingerprint': 'fp_510c177af0', 'service_tier': 'on_demand', 'finish_reason': 'tool_calls', 'logprobs': None}, id='run--08ce7c2a-bd17-4ed3-8d11-c5b58d6152db-0', tool_calls=[{'name': 'tavily_search', 'args': {'end_date': None, 'exclude_domains': None, 'include_domains': None, 'include_favicon': None, 'include_images': None, 'query': 'Recent TCS News', 'search_depth': 'advanced', 'start_date': None, 'time_range': None, 'topic': 'news'}, 'id': '1hv5gzw4w', 'type': 'tool_call'}], usage_metadata={'input_tokens': 1857, 'output_tokens': 74, 'total_tokens': 1931}),\n",
       "  ToolMessage(content='{\"query\": \"Recent TCS News\", \"follow_up_questions\": null, \"answer\": null, \"images\": [], \"results\": [{\"url\": \"https://www.newindianexpress.com/business/2025/Aug/07/amid-layoffs-tcs-to-hike-salaries-for-80-of-workforce-from-september\", \"title\": \"Amid layoffs, TCS to hike salaries for 80% of workforce from September - The New Indian Express\", \"score\": 0.78014404, \"published_date\": \"Thu, 07 Aug 2025 06:29:05 GMT\", \"content\": \"Published Time: 2025-08-07T06:29:05Z\\\\n\\\\nAmid layoffs, TCS to hike salaries for 80% of workforce from September\\\\n\\\\n===============\\\\n\\\\n\\\\n   Copied \\\\n\\\\nFollow Us\\\\n\\\\n, India’s largest IT services company, has announced that it will roll out salary hikes to nearly 80% of its employees starting September 1, 2025. The hike will apply to employees up to the C3A grade, covering freshers and mid-level professionals with up to a decade of experience. [...] Arshad Khan\\\\n\\\\n29 Jul 2025\\\\n\\\\nImage 6: TCS is actively working to move benched employees into billable roles faster\\\\n\\\\n###### Sensex, Nifty slip amid volatile trade triggered by stock-specific reactions\\\\n\\\\nOnline Desk\\\\n\\\\n24 Jul 2025\\\\n\\\\nImage 7: TCS is actively working to move benched employees into billable roles faster\\\\n\\\\n###### TCS’s bench policy: Why it’s raising concerns among IT workforce\\\\n\\\\nUnni K Chennamkulath\\\\n\\\\n17 Jul 2025\\\\n\\\\nAdvertisement\\\\n\\\\nImage 8: TNIE Logo white [...] The Indian IT sector has been under pressure in recent quarters due to global macroeconomic headwinds, reduced client spending, and uncertainty in export markets. In the June quarter, TCS reported a 3.1% year-on-year decline in constant currency revenue, while voluntary attrition rose to 13.8%.\", \"raw_content\": null}, {\"url\": \"https://www.hrkatha.com/news/increments-for-80-of-tcs-workforce-new-hiring-model-too/\", \"title\": \"Increments for 80% of TCS workforce; new hiring model too - HR Katha\", \"score\": 0.76701033, \"published_date\": \"Thu, 07 Aug 2025 04:53:44 GMT\", \"content\": \"Finally, there is some good news for employees of Tata Consultancy Services (TCS). The Indian multinational that has been in the news for announcing the layoff of 12,000 employees and making its workforce anxious, has now announced that 80 per cent of its employees will be receiving pay hikes starting 1 September. [...] #### How India’s oldest fund management firm turned its grey hair to black\\\\n\\\\nAugust 4, 2025\\\\n\\\\n\\\\n\\\\n#### How scheduling bias undermines talent acquisition\\\\n\\\\nAugust 1, 2025\\\\n\\\\nImage 10\\\\n\\\\nImage 11\\\\n\\\\n##### Latest Post\\\\n\\\\n\\\\n\\\\nIncrements for 80% of TCS workforce; new hiring model too\\\\n--------------------------------------------------------------------------------------------------------------------------------------------------\\\\n\\\\nCompensation & BenefitsAugust 7, 2025 [...] Increments for 80% of TCS workforce; new hiring model too\\\\n=========================================================\\\\n\\\\nStarting 1 September 2025, eligible associates in grades up to C3A and equivalent at TCS will receive pay hikes\\\\n\\\\nImage 7: Liji Narayan | HRKathaByLiji Narayan | HRKathaAugust 7, 2025 2 Mins Read 345 Views\\\\n\\\\n Share LinkedInTwitter\\\\\")Facebook\\\\n\\\\nImage 8: TCS logo\\\\n\\\\nShare\\\\n\\\\nLinkedInTwitterFacebook\", \"raw_content\": null}], \"response_time\": 2.08}', name='tavily_search', id='e535305c-a51c-482c-9bf9-956d3a8a0db1', tool_call_id='1hv5gzw4w')]}"
      ]
     },
     "execution_count": 43,
     "metadata": {},
     "output_type": "execute_result"
    }
   ],
   "source": [
    "response"
   ]
  },
  {
   "cell_type": "code",
   "execution_count": 44,
   "id": "b5128d8d",
   "metadata": {},
   "outputs": [
    {
     "data": {
      "text/plain": [
       "'{\"query\": \"Recent TCS News\", \"follow_up_questions\": null, \"answer\": null, \"images\": [], \"results\": [{\"url\": \"https://www.newindianexpress.com/business/2025/Aug/07/amid-layoffs-tcs-to-hike-salaries-for-80-of-workforce-from-september\", \"title\": \"Amid layoffs, TCS to hike salaries for 80% of workforce from September - The New Indian Express\", \"score\": 0.78014404, \"published_date\": \"Thu, 07 Aug 2025 06:29:05 GMT\", \"content\": \"Published Time: 2025-08-07T06:29:05Z\\\\n\\\\nAmid layoffs, TCS to hike salaries for 80% of workforce from September\\\\n\\\\n===============\\\\n\\\\n\\\\n   Copied \\\\n\\\\nFollow Us\\\\n\\\\n, India’s largest IT services company, has announced that it will roll out salary hikes to nearly 80% of its employees starting September 1, 2025. The hike will apply to employees up to the C3A grade, covering freshers and mid-level professionals with up to a decade of experience. [...] Arshad Khan\\\\n\\\\n29 Jul 2025\\\\n\\\\nImage 6: TCS is actively working to move benched employees into billable roles faster\\\\n\\\\n###### Sensex, Nifty slip amid volatile trade triggered by stock-specific reactions\\\\n\\\\nOnline Desk\\\\n\\\\n24 Jul 2025\\\\n\\\\nImage 7: TCS is actively working to move benched employees into billable roles faster\\\\n\\\\n###### TCS’s bench policy: Why it’s raising concerns among IT workforce\\\\n\\\\nUnni K Chennamkulath\\\\n\\\\n17 Jul 2025\\\\n\\\\nAdvertisement\\\\n\\\\nImage 8: TNIE Logo white [...] The Indian IT sector has been under pressure in recent quarters due to global macroeconomic headwinds, reduced client spending, and uncertainty in export markets. In the June quarter, TCS reported a 3.1% year-on-year decline in constant currency revenue, while voluntary attrition rose to 13.8%.\", \"raw_content\": null}, {\"url\": \"https://www.hrkatha.com/news/increments-for-80-of-tcs-workforce-new-hiring-model-too/\", \"title\": \"Increments for 80% of TCS workforce; new hiring model too - HR Katha\", \"score\": 0.76701033, \"published_date\": \"Thu, 07 Aug 2025 04:53:44 GMT\", \"content\": \"Finally, there is some good news for employees of Tata Consultancy Services (TCS). The Indian multinational that has been in the news for announcing the layoff of 12,000 employees and making its workforce anxious, has now announced that 80 per cent of its employees will be receiving pay hikes starting 1 September. [...] #### How India’s oldest fund management firm turned its grey hair to black\\\\n\\\\nAugust 4, 2025\\\\n\\\\n\\\\n\\\\n#### How scheduling bias undermines talent acquisition\\\\n\\\\nAugust 1, 2025\\\\n\\\\nImage 10\\\\n\\\\nImage 11\\\\n\\\\n##### Latest Post\\\\n\\\\n\\\\n\\\\nIncrements for 80% of TCS workforce; new hiring model too\\\\n--------------------------------------------------------------------------------------------------------------------------------------------------\\\\n\\\\nCompensation & BenefitsAugust 7, 2025 [...] Increments for 80% of TCS workforce; new hiring model too\\\\n=========================================================\\\\n\\\\nStarting 1 September 2025, eligible associates in grades up to C3A and equivalent at TCS will receive pay hikes\\\\n\\\\nImage 7: Liji Narayan | HRKathaByLiji Narayan | HRKathaAugust 7, 2025 2 Mins Read 345 Views\\\\n\\\\n Share LinkedInTwitter\\\\\")Facebook\\\\n\\\\nImage 8: TCS logo\\\\n\\\\nShare\\\\n\\\\nLinkedInTwitterFacebook\", \"raw_content\": null}], \"response_time\": 2.08}'"
      ]
     },
     "execution_count": 44,
     "metadata": {},
     "output_type": "execute_result"
    }
   ],
   "source": [
    "response[\"messages\"][-1].content"
   ]
  },
  {
   "cell_type": "code",
   "execution_count": 45,
   "id": "1e575b57",
   "metadata": {},
   "outputs": [
    {
     "name": "stdout",
     "output_type": "stream",
     "text": [
      "================================\u001b[1m Human Message \u001b[0m=================================\n",
      "\n",
      "What is the Recent TCS News?\n",
      "==================================\u001b[1m Ai Message \u001b[0m==================================\n",
      "Tool Calls:\n",
      "  tavily_search (1hv5gzw4w)\n",
      " Call ID: 1hv5gzw4w\n",
      "  Args:\n",
      "    end_date: None\n",
      "    exclude_domains: None\n",
      "    include_domains: None\n",
      "    include_favicon: None\n",
      "    include_images: None\n",
      "    query: Recent TCS News\n",
      "    search_depth: advanced\n",
      "    start_date: None\n",
      "    time_range: None\n",
      "    topic: news\n",
      "=================================\u001b[1m Tool Message \u001b[0m=================================\n",
      "Name: tavily_search\n",
      "\n",
      "{\"query\": \"Recent TCS News\", \"follow_up_questions\": null, \"answer\": null, \"images\": [], \"results\": [{\"url\": \"https://www.newindianexpress.com/business/2025/Aug/07/amid-layoffs-tcs-to-hike-salaries-for-80-of-workforce-from-september\", \"title\": \"Amid layoffs, TCS to hike salaries for 80% of workforce from September - The New Indian Express\", \"score\": 0.78014404, \"published_date\": \"Thu, 07 Aug 2025 06:29:05 GMT\", \"content\": \"Published Time: 2025-08-07T06:29:05Z\\n\\nAmid layoffs, TCS to hike salaries for 80% of workforce from September\\n\\n===============\\n\\n\\n   Copied \\n\\nFollow Us\\n\\n, India’s largest IT services company, has announced that it will roll out salary hikes to nearly 80% of its employees starting September 1, 2025. The hike will apply to employees up to the C3A grade, covering freshers and mid-level professionals with up to a decade of experience. [...] Arshad Khan\\n\\n29 Jul 2025\\n\\nImage 6: TCS is actively working to move benched employees into billable roles faster\\n\\n###### Sensex, Nifty slip amid volatile trade triggered by stock-specific reactions\\n\\nOnline Desk\\n\\n24 Jul 2025\\n\\nImage 7: TCS is actively working to move benched employees into billable roles faster\\n\\n###### TCS’s bench policy: Why it’s raising concerns among IT workforce\\n\\nUnni K Chennamkulath\\n\\n17 Jul 2025\\n\\nAdvertisement\\n\\nImage 8: TNIE Logo white [...] The Indian IT sector has been under pressure in recent quarters due to global macroeconomic headwinds, reduced client spending, and uncertainty in export markets. In the June quarter, TCS reported a 3.1% year-on-year decline in constant currency revenue, while voluntary attrition rose to 13.8%.\", \"raw_content\": null}, {\"url\": \"https://www.hrkatha.com/news/increments-for-80-of-tcs-workforce-new-hiring-model-too/\", \"title\": \"Increments for 80% of TCS workforce; new hiring model too - HR Katha\", \"score\": 0.76701033, \"published_date\": \"Thu, 07 Aug 2025 04:53:44 GMT\", \"content\": \"Finally, there is some good news for employees of Tata Consultancy Services (TCS). The Indian multinational that has been in the news for announcing the layoff of 12,000 employees and making its workforce anxious, has now announced that 80 per cent of its employees will be receiving pay hikes starting 1 September. [...] #### How India’s oldest fund management firm turned its grey hair to black\\n\\nAugust 4, 2025\\n\\n\\n\\n#### How scheduling bias undermines talent acquisition\\n\\nAugust 1, 2025\\n\\nImage 10\\n\\nImage 11\\n\\n##### Latest Post\\n\\n\\n\\nIncrements for 80% of TCS workforce; new hiring model too\\n--------------------------------------------------------------------------------------------------------------------------------------------------\\n\\nCompensation & BenefitsAugust 7, 2025 [...] Increments for 80% of TCS workforce; new hiring model too\\n=========================================================\\n\\nStarting 1 September 2025, eligible associates in grades up to C3A and equivalent at TCS will receive pay hikes\\n\\nImage 7: Liji Narayan | HRKathaByLiji Narayan | HRKathaAugust 7, 2025 2 Mins Read 345 Views\\n\\n Share LinkedInTwitter\\\")Facebook\\n\\nImage 8: TCS logo\\n\\nShare\\n\\nLinkedInTwitterFacebook\", \"raw_content\": null}], \"response_time\": 2.08}\n"
     ]
    }
   ],
   "source": [
    "for m in response[\"messages\"]:\n",
    "    m.pretty_print()"
   ]
  },
  {
   "cell_type": "code",
   "execution_count": 46,
   "id": "97783d22",
   "metadata": {},
   "outputs": [
    {
     "name": "stdout",
     "output_type": "stream",
     "text": [
      "Using multiply func\n"
     ]
    }
   ],
   "source": [
    "response = graph.invoke({\"messages\" : \"What is 7 multiply 5?\"})"
   ]
  },
  {
   "cell_type": "code",
   "execution_count": 47,
   "id": "490bf1ec",
   "metadata": {},
   "outputs": [
    {
     "name": "stdout",
     "output_type": "stream",
     "text": [
      "================================\u001b[1m Human Message \u001b[0m=================================\n",
      "\n",
      "What is 7 multiply 5?\n",
      "==================================\u001b[1m Ai Message \u001b[0m==================================\n",
      "Tool Calls:\n",
      "  multiply (hxfhfhtcx)\n",
      " Call ID: hxfhfhtcx\n",
      "  Args:\n",
      "    a: 7\n",
      "    b: 5\n",
      "=================================\u001b[1m Tool Message \u001b[0m=================================\n",
      "Name: multiply\n",
      "\n",
      "35\n"
     ]
    }
   ],
   "source": [
    "for m in response[\"messages\"]:\n",
    "    m.pretty_print()"
   ]
  },
  {
   "cell_type": "markdown",
   "id": "bba4bec5",
   "metadata": {},
   "source": [
    "### ReAct Agent Architecture"
   ]
  },
  {
   "cell_type": "code",
   "execution_count": 1,
   "id": "bdb67214",
   "metadata": {},
   "outputs": [],
   "source": [
    "from typing import Annotated\n",
    "from typing_extensions import TypedDict\n",
    "\n",
    "from langchain.chat_models import init_chat_model\n",
    "\n",
    "from langgraph.graph import StateGraph, START, END\n",
    "from langgraph.graph.message import add_messages\n",
    "from langgraph.prebuilt import ToolNode, tools_condition\n",
    "\n",
    "from langchain_tavily import TavilySearch"
   ]
  },
  {
   "cell_type": "code",
   "execution_count": 2,
   "id": "075a2e2d",
   "metadata": {},
   "outputs": [],
   "source": [
    "class State(TypedDict):\n",
    "    messages: Annotated[list, add_messages]"
   ]
  },
  {
   "cell_type": "code",
   "execution_count": 3,
   "id": "90ab3a8e",
   "metadata": {},
   "outputs": [
    {
     "data": {
      "text/plain": [
       "True"
      ]
     },
     "execution_count": 3,
     "metadata": {},
     "output_type": "execute_result"
    }
   ],
   "source": [
    "import os\n",
    "from dotenv import load_dotenv\n",
    "load_dotenv()"
   ]
  },
  {
   "cell_type": "code",
   "execution_count": 4,
   "id": "19eaa55c",
   "metadata": {},
   "outputs": [],
   "source": [
    "# Creating the Nodes\n",
    "\n",
    "llm = init_chat_model(\"groq:llama-3.1-8b-instant\")\n",
    "\n",
    "# tools\n",
    "tool = TavilySearch(max_results=2)\n",
    "\n",
    "def multiply(a: int, b: int)-> int:\n",
    "    \"\"\"Multiply a and b\n",
    "\n",
    "    Args:\n",
    "        a (int) : First Integer\n",
    "        b (int) : Second Integer\n",
    "\n",
    "    Returns:\n",
    "        int : product of a and b\n",
    "    \"\"\"\n",
    "    print(\"Using multiply func\")\n",
    "    return a*b\n",
    "\n",
    "tools = [tool, multiply]\n",
    "\n",
    "# Binding llm with tools\n",
    "ReAct_agent_llm = llm.bind_tools(tools)\n",
    "\n",
    "def ReActAgent(state: State):\n",
    "    return {\"messages\" : ReAct_agent_llm.invoke(state[\"messages\"])}\n"
   ]
  },
  {
   "cell_type": "code",
   "execution_count": 5,
   "id": "5c6b7a18",
   "metadata": {},
   "outputs": [],
   "source": [
    "## Creating the StateGraph Using Above Nodes\n",
    "\n",
    "graph_builder = StateGraph(State)\n",
    "\n",
    "# Adding Nodes\n",
    "graph_builder.add_node(\"ReActAgent\", ReActAgent)\n",
    "graph_builder.add_node(\"tools\", ToolNode(tools))\n",
    "\n",
    "# Adding Edges\n",
    "graph_builder.add_edge(START, \"ReActAgent\")\n",
    "graph_builder.add_conditional_edges(\n",
    "    \"ReActAgent\",\n",
    "    # If the latest message (result) from assistant is a tool call -> tools_condition routes to tools.\n",
    "    # If the latest message (result) from assistant is not a tool call -> tools_condition routes to END.\n",
    "    tools_condition\n",
    ")\n",
    "graph_builder.add_edge(\"tools\", \"ReActAgent\")\n",
    "\n",
    "graph = graph_builder.compile()"
   ]
  },
  {
   "cell_type": "code",
   "execution_count": 6,
   "id": "2f680a43",
   "metadata": {},
   "outputs": [
    {
     "data": {
      "image/png": "[encoded data removed]",
      "text/plain": [
       "<IPython.core.display.Image object>"
      ]
     },
     "metadata": {},
     "output_type": "display_data"
    }
   ],
   "source": [
    "from IPython.display import display, Image\n",
    "\n",
    "display(Image(graph.get_graph().draw_mermaid_png()))"
   ]
  },
  {
   "cell_type": "code",
   "execution_count": 9,
   "id": "2d71f03d",
   "metadata": {},
   "outputs": [
    {
     "name": "stdout",
     "output_type": "stream",
     "text": [
      "Using multiply func\n",
      "================================\u001b[1m Human Message \u001b[0m=================================\n",
      "\n",
      "Give me the recent ai news and then multiply 5 by 10\n",
      "==================================\u001b[1m Ai Message \u001b[0m==================================\n",
      "Tool Calls:\n",
      "  tavily_search (s60qpvw1s)\n",
      " Call ID: s60qpvw1s\n",
      "  Args:\n",
      "    query: AI news\n",
      "    time_range: day\n",
      "    topic: news\n",
      "  multiply (h7hr2383d)\n",
      " Call ID: h7hr2383d\n",
      "  Args:\n",
      "    a: 5\n",
      "    b: 10\n",
      "=================================\u001b[1m Tool Message \u001b[0m=================================\n",
      "Name: tavily_search\n",
      "\n",
      "{\"query\": \"AI news\", \"follow_up_questions\": null, \"answer\": null, \"images\": [], \"results\": [{\"url\": \"https://www.ainvest.com/news/meta-acquires-waveforms-tesla-shuts-dojo-team-apple-loses-ai-staff-2508/\", \"title\": \"Meta Acquires WaveForms, Tesla Shuts Down Dojo Team, and Apple Loses AI Staff - AInvest\", \"score\": 0.6175132, \"published_date\": \"Fri, 08 Aug 2025 23:13:22 GMT\", \"content\": \"Meta Acquires WaveForms, Tesla Shuts Down Dojo Team, and Apple Loses AI Staff Image 2: whatsapp Image 5: facebook Meta Acquires WaveForms, Tesla Shuts Down Dojo Team, and Apple Loses AI Staff Meta acquired AI audio startup WaveForms, Tesla disbanded its Dojo team, and Apple lost around a dozen AI staff members to rivals. Atlassian announced a multi-year partnership with Google Cloud to accelerate cloud transformation and deliver advanced AI capabilities. In other news, Atlassian has announced a multi-year partnership with Google Cloud to accelerate cloud transformation and deliver advanced AI capabilities. [2] https://theoutpost.ai/news-story/meta-acquires-wave-forms-ai-bolstering-audio-ai-capabilities-in-talent-war-18881/ [3] https://www.bloomberg.com/news/articles/2025-08-07/tesla-disbands-dojo-supercomputer-team-in-blow-to-ai-effort [4] https://www.webpronews.com/tesla-disbands-dojo-team-shifts-to-nvidia-amd-for-ai-acceleration/ Image 8: Meta Acquires WaveForms, Tesla Shuts Down Dojo Team, and Apple Loses AI Staff Image 9: whatsapp Image 30: aime\", \"raw_content\": null}, {\"url\": \"https://www.foxnews.com/tech/ai-newsletter-openai-gpt-5-draws-musk-eyeroll\", \"title\": \"Fox News AI Newsletter: OpenAI GPT-5 draws Musk eyeroll - Fox News\", \"score\": 0.57293844, \"published_date\": \"Fri, 08 Aug 2025 18:58:56 GMT\", \"content\": \"### **Welcome to Fox News’ Artificial Intelligence newsletter with the latest AI technology advancements.** **'WIDESPREAD ADOPTION':** The federal government is stepping into the future and embracing artificial intelligence, specifically ChatGPT, across its agencies, which proponents say will streamline productivity while solidifying President Donald Trump's pledge to keep the U.S. in the driver's seat of the cutting-edge technology, Fox News Digital exclusively learned. ### **Subscribe now to get the Fox News Artificial Intelligence Newsletter in your inbox****.** Image 40: Food & DrinkImage 41: logoFood & Drink Fox News Image 42: Mike Rowe analyzes the threat of AI for new college gradsImage 43: logoMike Rowe analyzes the threat of AI for new college grads Fox News Image 52: Fox News SciTech\", \"raw_content\": null}], \"response_time\": 0.15}\n",
      "=================================\u001b[1m Tool Message \u001b[0m=================================\n",
      "Name: multiply\n",
      "\n",
      "50\n",
      "==================================\u001b[1m Ai Message \u001b[0m==================================\n",
      "\n",
      "The function call to multiply 5 by 10 returned the result 50.\n"
     ]
    }
   ],
   "source": [
    "response=graph.invoke({\"messages\":\"Give me the recent ai news and then multiply 5 by 10\"})\n",
    "for m in response['messages']:\n",
    "    m.pretty_print()"
   ]
  },
  {
   "cell_type": "code",
   "execution_count": 10,
   "id": "f2ec656f",
   "metadata": {},
   "outputs": [
    {
     "data": {
      "text/plain": [
       "{'messages': [HumanMessage(content='Give me the recent ai news and then multiply 5 by 10', additional_kwargs={}, response_metadata={}, id='ee8c64f5-b41b-4f5e-822d-cacad804149c'),\n",
       "  AIMessage(content='', additional_kwargs={'tool_calls': [{'id': 's60qpvw1s', 'function': {'arguments': '{\"query\":\"AI news\",\"time_range\":\"day\",\"topic\":\"news\"}', 'name': 'tavily_search'}, 'type': 'function'}, {'id': 'h7hr2383d', 'function': {'arguments': '{\"a\":5,\"b\":10}', 'name': 'multiply'}, 'type': 'function'}]}, response_metadata={'token_usage': {'completion_tokens': 48, 'prompt_tokens': 1863, 'total_tokens': 1911, 'completion_time': 0.06407336, 'prompt_time': 0.067884194, 'queue_time': 0.047300391, 'total_time': 0.131957554, 'prompt_tokens_details': {'cached_tokens': 1536}}, 'model_name': 'llama-3.1-8b-instant', 'system_fingerprint': 'fp_c8fb515de2', 'service_tier': 'on_demand', 'finish_reason': 'tool_calls', 'logprobs': None}, id='run--47d7805a-33c9-409e-9d4e-e7ef06466498-0', tool_calls=[{'name': 'tavily_search', 'args': {'query': 'AI news', 'time_range': 'day', 'topic': 'news'}, 'id': 's60qpvw1s', 'type': 'tool_call'}, {'name': 'multiply', 'args': {'a': 5, 'b': 10}, 'id': 'h7hr2383d', 'type': 'tool_call'}], usage_metadata={'input_tokens': 1863, 'output_tokens': 48, 'total_tokens': 1911}),\n",
       "  ToolMessage(content='{\"query\": \"AI news\", \"follow_up_questions\": null, \"answer\": null, \"images\": [], \"results\": [{\"url\": \"https://www.ainvest.com/news/meta-acquires-waveforms-tesla-shuts-dojo-team-apple-loses-ai-staff-2508/\", \"title\": \"Meta Acquires WaveForms, Tesla Shuts Down Dojo Team, and Apple Loses AI Staff - AInvest\", \"score\": 0.6175132, \"published_date\": \"Fri, 08 Aug 2025 23:13:22 GMT\", \"content\": \"Meta Acquires WaveForms, Tesla Shuts Down Dojo Team, and Apple Loses AI Staff Image 2: whatsapp Image 5: facebook Meta Acquires WaveForms, Tesla Shuts Down Dojo Team, and Apple Loses AI Staff Meta acquired AI audio startup WaveForms, Tesla disbanded its Dojo team, and Apple lost around a dozen AI staff members to rivals. Atlassian announced a multi-year partnership with Google Cloud to accelerate cloud transformation and deliver advanced AI capabilities. In other news, Atlassian has announced a multi-year partnership with Google Cloud to accelerate cloud transformation and deliver advanced AI capabilities. [2] https://theoutpost.ai/news-story/meta-acquires-wave-forms-ai-bolstering-audio-ai-capabilities-in-talent-war-18881/ [3] https://www.bloomberg.com/news/articles/2025-08-07/tesla-disbands-dojo-supercomputer-team-in-blow-to-ai-effort [4] https://www.webpronews.com/tesla-disbands-dojo-team-shifts-to-nvidia-amd-for-ai-acceleration/ Image 8: Meta Acquires WaveForms, Tesla Shuts Down Dojo Team, and Apple Loses AI Staff Image 9: whatsapp Image 30: aime\", \"raw_content\": null}, {\"url\": \"https://www.foxnews.com/tech/ai-newsletter-openai-gpt-5-draws-musk-eyeroll\", \"title\": \"Fox News AI Newsletter: OpenAI GPT-5 draws Musk eyeroll - Fox News\", \"score\": 0.57293844, \"published_date\": \"Fri, 08 Aug 2025 18:58:56 GMT\", \"content\": \"### **Welcome to Fox News’ Artificial Intelligence newsletter with the latest AI technology advancements.** **\\'WIDESPREAD ADOPTION\\':** The federal government is stepping into the future and embracing artificial intelligence, specifically ChatGPT, across its agencies, which proponents say will streamline productivity while solidifying President Donald Trump\\'s pledge to keep the U.S. in the driver\\'s seat of the cutting-edge technology, Fox News Digital exclusively learned. ### **Subscribe now to get the Fox News Artificial Intelligence Newsletter in your inbox****.** Image 40: Food & DrinkImage 41: logoFood & Drink Fox News Image 42: Mike Rowe analyzes the threat of AI for new college gradsImage 43: logoMike Rowe analyzes the threat of AI for new college grads Fox News Image 52: Fox News SciTech\", \"raw_content\": null}], \"response_time\": 0.15}', name='tavily_search', id='0cb8d224-1af6-4bfd-b764-341b6ad8dc24', tool_call_id='s60qpvw1s'),\n",
       "  ToolMessage(content='50', name='multiply', id='5aee503f-b219-4a23-8f49-5e7dd7bb742f', tool_call_id='h7hr2383d'),\n",
       "  AIMessage(content='The function call to multiply 5 by 10 returned the result 50.', additional_kwargs={}, response_metadata={'token_usage': {'completion_tokens': 17, 'prompt_tokens': 2595, 'total_tokens': 2612, 'completion_time': 0.029064637, 'prompt_time': 0.171626567, 'queue_time': 0.046487962, 'total_time': 0.200691204}, 'model_name': 'llama-3.1-8b-instant', 'system_fingerprint': 'fp_2a85b31419', 'service_tier': 'on_demand', 'finish_reason': 'stop', 'logprobs': None}, id='run--2ad1f1e1-230b-4e98-864b-b69c54861d2c-0', usage_metadata={'input_tokens': 2595, 'output_tokens': 17, 'total_tokens': 2612})]}"
      ]
     },
     "execution_count": 10,
     "metadata": {},
     "output_type": "execute_result"
    }
   ],
   "source": [
    "response"
   ]
  },
  {
   "cell_type": "code",
   "execution_count": 8,
   "id": "c606ef84",
   "metadata": {},
   "outputs": [
    {
     "name": "stdout",
     "output_type": "stream",
     "text": [
      "==================================\u001b[1m Ai Message \u001b[0m==================================\n",
      "\n",
      "The recent TCS news includes:\n",
      "\n",
      "* Virgin Atlantic and TCS extend two-decade partnership to modernize airline operations with AI-led solutions.\n",
      "* TCS to steer cloud migration program for Finnish telecom leader DNA in a five-year partnership.\n",
      "* TCS recognized as one of the world’s top 50 brands by Kantar BrandZ; brand value soars 28% YoY to $57.3Bn.\n",
      "* TCS strengthens focus in the Middle East region with new facility in Oman.\n",
      "* TCS ranked Denmark’s #1 IT service provider for customer satisfaction in 2025.\n",
      "* TCS partners with Google Cloud to accelerate AI-led transformation in the retail sector.\n",
      "\n",
      "These news articles are from various sources, including TCS’s official website, Marketscreener, and other reputable news outlets.\n"
     ]
    }
   ],
   "source": [
    "response = graph.invoke({\"messages\" : \"Give me the Recent TCS News?\"})\n",
    "response[\"messages\"][-1].pretty_print()"
   ]
  },
  {
   "cell_type": "code",
   "execution_count": null,
   "id": "00e49ba0",
   "metadata": {},
   "outputs": [
    {
     "name": "stdout",
     "output_type": "stream",
     "text": [
      "Using multiply func\n"
     ]
    }
   ],
   "source": [
    "response = graph.invoke({\"messages\": \"Multiply 5 by 5\"})\n",
    "response[\"messages\"][-1].pretty_print()"
   ]
  },
  {
   "cell_type": "code",
   "execution_count": 28,
   "id": "b1590edf",
   "metadata": {},
   "outputs": [
    {
     "name": "stdout",
     "output_type": "stream",
     "text": [
      "==================================\u001b[1m Ai Message \u001b[0m==================================\n",
      "\n",
      "The multiply function returns the result of the multiplication, which is 25.\n"
     ]
    }
   ],
   "source": [
    "response[\"messages\"][-1].pretty_print()"
   ]
  },
  {
   "cell_type": "markdown",
   "id": "d09524c8",
   "metadata": {},
   "source": [
    "### Adding Memory in Agentic Graph"
   ]
  },
  {
   "cell_type": "code",
   "execution_count": 11,
   "id": "54227343",
   "metadata": {},
   "outputs": [
    {
     "name": "stdout",
     "output_type": "stream",
     "text": [
      "================================\u001b[1m Human Message \u001b[0m=================================\n",
      "\n",
      "Hi My name is Ankur?\n",
      "==================================\u001b[1m Ai Message \u001b[0m==================================\n",
      "\n",
      "Hello Ankur! How can I assist you today?\n"
     ]
    }
   ],
   "source": [
    "response = graph.invoke({\"messages\":\"Hi My name is Ankur?\"})\n",
    "for convo in response[\"messages\"]:\n",
    "    convo.pretty_print()"
   ]
  },
  {
   "cell_type": "code",
   "execution_count": 20,
   "id": "458dd0fe",
   "metadata": {},
   "outputs": [
    {
     "name": "stdout",
     "output_type": "stream",
     "text": [
      "================================\u001b[1m Human Message \u001b[0m=================================\n",
      "\n",
      "What is my Name?\n",
      "==================================\u001b[1m Ai Message \u001b[0m==================================\n",
      "\n",
      "I don't have any information about your name. If you'd like to provide it, I can try to help you with something else.\n"
     ]
    }
   ],
   "source": [
    "response = graph.invoke({\"messages\" : \"What is my Name?\"})\n",
    "for convo in response[\"messages\"]:\n",
    "    convo.pretty_print()"
   ]
  },
  {
   "cell_type": "code",
   "execution_count": 23,
   "id": "4be0e7dc",
   "metadata": {},
   "outputs": [],
   "source": [
    "# Creating the Nodes\n",
    "\n",
    "llm = init_chat_model(\"groq:llama-3.1-8b-instant\")\n",
    "\n",
    "# tools\n",
    "tool = TavilySearch(max_results=2)\n",
    "\n",
    "def multiply(a: int, b: int)-> int:\n",
    "    \"\"\"Multiply a and b\n",
    "\n",
    "    Args:\n",
    "        a (int) : First Integer\n",
    "        b (int) : Second Integer\n",
    "\n",
    "    Returns:\n",
    "        int : product of a and b\n",
    "    \"\"\"\n",
    "    print(\"Using multiply func\")\n",
    "    return a*b\n",
    "\n",
    "tools = [tool, multiply]\n",
    "\n",
    "# Binding llm with tools\n",
    "llm_with_tools = llm.bind_tools(tools)\n",
    "\n",
    "def tool_calling_llm(state: State):\n",
    "    return {\"messages\" : llm_with_tools.invoke(state[\"messages\"])}\n"
   ]
  },
  {
   "cell_type": "code",
   "execution_count": 35,
   "id": "4739513c",
   "metadata": {},
   "outputs": [
    {
     "data": {
      "image/png": "[encoded data removed]",
      "text/plain": [
       "<IPython.core.display.Image object>"
      ]
     },
     "metadata": {},
     "output_type": "display_data"
    }
   ],
   "source": [
    "### Creating the StateGraph\n",
    "from langgraph.checkpoint.memory import MemorySaver\n",
    "\n",
    "memory = MemorySaver()\n",
    "\n",
    "graph_builder = StateGraph(State)\n",
    "\n",
    "# Creating Nodes\n",
    "graph_builder.add_node(\"tool_calling_llm\", tool_calling_llm)\n",
    "graph_builder.add_node(\"tools\", ToolNode(tools))\n",
    "\n",
    "# Adding Edges\n",
    "graph_builder.add_edge(START, \"tool_calling_llm\")\n",
    "graph_builder.add_conditional_edges(\n",
    "    \"tool_calling_llm\",\n",
    "    tools_condition\n",
    ")\n",
    "graph_builder.add_edge(\"tools\", \"tool_calling_llm\")\n",
    "\n",
    "## Compile the Graph\n",
    "graph = graph_builder.compile(checkpointer= memory)\n",
    "\n",
    "from IPython.display import display, Image\n",
    "display(Image(graph.get_graph().draw_mermaid_png()))"
   ]
  },
  {
   "cell_type": "code",
   "execution_count": 36,
   "id": "6c908ce7",
   "metadata": {},
   "outputs": [
    {
     "name": "stdout",
     "output_type": "stream",
     "text": [
      "================================\u001b[1m Human Message \u001b[0m=================================\n",
      "\n",
      "My name is Ankur. How are you?\n",
      "==================================\u001b[1m Ai Message \u001b[0m==================================\n",
      "\n",
      "I'm functioning properly, thank you for asking.\n"
     ]
    }
   ],
   "source": [
    "# Creating a Unique Thread\n",
    "config = {\"configurable\" : {\"thread_id\" : \"1\"}}\n",
    "\n",
    "## Again asking the Memory based Questions?\n",
    "response = graph.invoke({\"messages\" : \"My name is Ankur. How are you?\"}, config=config)\n",
    "for convo in response[\"messages\"]:\n",
    "    convo.pretty_print()"
   ]
  },
  {
   "cell_type": "code",
   "execution_count": 37,
   "id": "59e065af",
   "metadata": {},
   "outputs": [
    {
     "name": "stdout",
     "output_type": "stream",
     "text": [
      "================================\u001b[1m Human Message \u001b[0m=================================\n",
      "\n",
      "My name is Ankur. How are you?\n",
      "==================================\u001b[1m Ai Message \u001b[0m==================================\n",
      "\n",
      "I'm functioning properly, thank you for asking.\n",
      "================================\u001b[1m Human Message \u001b[0m=================================\n",
      "\n",
      "What is my Name?\n",
      "==================================\u001b[1m Ai Message \u001b[0m==================================\n",
      "Tool Calls:\n",
      "  tavily_search (21zt7vt3x)\n",
      " Call ID: 21zt7vt3x\n",
      "  Args:\n",
      "    query: your name Ankur\n",
      "=================================\u001b[1m Tool Message \u001b[0m=================================\n",
      "Name: tavily_search\n",
      "\n",
      "{\"query\": \"your name Ankur\", \"follow_up_questions\": null, \"answer\": null, \"images\": [], \"results\": [{\"url\": \"https://en.wikipedia.org/wiki/Ankur_(given_name)\", \"title\": \"Ankur (given name) - Wikipedia\", \"content\": \"Ankur is an Indian masculine given name: Contents. 1 Athletes; 2 Entrepreneurs; 3 Actors; 4 Other; 5 See also. Athletes. edit · Ankur Diwakar (born 1991),\", \"score\": 0.7613083, \"raw_content\": null}, {\"url\": \"https://www.ancestry.com/first-name-meaning/ankur?geo-lang=en-US\", \"title\": \"Ankur : Meaning and Origin of First Name - Ancestry\", \"content\": \"The name Ankur, of Hindi origin, translates to sprout or bud in English. This term is often associated with new beginnings, growth, and potential.\", \"score\": 0.7440808, \"raw_content\": null}], \"response_time\": 0.89}\n",
      "==================================\u001b[1m Ai Message \u001b[0m==================================\n",
      "\n",
      "Your name is Ankur.\n"
     ]
    }
   ],
   "source": [
    "response = graph.invoke({\"messages\" : \"What is my Name?\"}, config=config)\n",
    "for convo in response[\"messages\"]:\n",
    "    convo.pretty_print()"
   ]
  },
  {
   "cell_type": "code",
   "execution_count": 39,
   "id": "519f34d2",
   "metadata": {},
   "outputs": [
    {
     "name": "stdout",
     "output_type": "stream",
     "text": [
      "Your name is Ankur.\n"
     ]
    }
   ],
   "source": [
    "response = graph.invoke({\"messages\" : \"Hey, Do you remeber my Name?\"}, config= config)\n",
    "\n",
    "print(response[\"messages\"][-1].content)"
   ]
  },
  {
   "cell_type": "markdown",
   "id": "da43f8fd",
   "metadata": {},
   "source": [
    "### Streaming"
   ]
  },
  {
   "cell_type": "code",
   "execution_count": 51,
   "id": "8d63cd38",
   "metadata": {},
   "outputs": [],
   "source": [
    "from langgraph.checkpoint.memory import MemorySaver\n",
    "\n",
    "memory = MemorySaver()"
   ]
  },
  {
   "cell_type": "code",
   "execution_count": 52,
   "id": "89eb80a7",
   "metadata": {},
   "outputs": [],
   "source": [
    "def superbot(state: State):\n",
    "    return {\"messages\" : llm.invoke(state[\"messages\"])}"
   ]
  },
  {
   "cell_type": "code",
   "execution_count": 53,
   "id": "96616090",
   "metadata": {},
   "outputs": [
    {
     "data": {
      "image/png": "[encoded data removed]",
      "text/plain": [
       "<langgraph.graph.state.CompiledStateGraph object at 0x000002A6315FABD0>"
      ]
     },
     "execution_count": 53,
     "metadata": {},
     "output_type": "execute_result"
    }
   ],
   "source": [
    "## Creating the StateGraph\n",
    "\n",
    "graph_builder = StateGraph(State)\n",
    "\n",
    "graph_builder.add_node(\"SuperBot\", superbot)\n",
    "\n",
    "graph_builder.add_edge(START, \"SuperBot\")\n",
    "graph_builder.add_edge(\"SuperBot\", END)\n",
    "\n",
    "graph = graph_builder.compile(checkpointer = memory)\n",
    "graph"
   ]
  },
  {
   "cell_type": "code",
   "execution_count": 54,
   "id": "6a505095",
   "metadata": {},
   "outputs": [
    {
     "name": "stdout",
     "output_type": "stream",
     "text": [
      "================================\u001b[1m Human Message \u001b[0m=================================\n",
      "\n",
      "My Name is Ankur and I like Vollyball.\n",
      "==================================\u001b[1m Ai Message \u001b[0m==================================\n",
      "\n",
      "Hello Ankur, nice to meet you. It's great to hear that you like volleyball. Volleyball is a fantastic sport that requires skill, strategy, and teamwork. Are you a player, coach, or just an enthusiastic fan of the sport?\n",
      "\n",
      "Do you have a favorite team or player in volleyball?\n"
     ]
    }
   ],
   "source": [
    "## Invocation/ Creating thread\n",
    "\n",
    "config = {\"configurable\" : {\"thread_id\" : \"1\"}}\n",
    "\n",
    "response = graph.invoke({\"messages\" : \"My Name is Ankur and I like Vollyball.\"}, config = config)\n",
    "for convo in response[\"messages\"]:\n",
    "    convo.pretty_print()"
   ]
  },
  {
   "cell_type": "markdown",
   "id": "d5e1f3cf",
   "metadata": {},
   "source": [
    "### Streaming Methods\n",
    "\n",
    "Methods: .stream() and astream()\n",
    "\n",
    "These methods are sync and async methods for streaming back results.\n",
    "Additional parameters in streaming modes for graph state\n",
    "\n",
    "values : This streams the full state of the graph after each node is called.\n",
    "updates : This streams updates to the state of the graph after each node is called."
   ]
  },
  {
   "cell_type": "code",
   "execution_count": 60,
   "id": "2b5bd383",
   "metadata": {},
   "outputs": [
    {
     "name": "stdout",
     "output_type": "stream",
     "text": [
      "{'SuperBot': {'messages': AIMessage(content=\"Hi Ankur, you've mentioned your interest in volleyball a few times now. Do you have a favorite volleyball player, past or present, who inspires you with their skills or dedication to the sport?\", additional_kwargs={}, response_metadata={'token_usage': {'completion_tokens': 41, 'prompt_tokens': 286, 'total_tokens': 327, 'completion_time': 0.09733511, 'prompt_time': 0.097030014, 'queue_time': 0.043993846, 'total_time': 0.194365124}, 'model_name': 'llama-3.1-8b-instant', 'system_fingerprint': 'fp_2a85b31419', 'service_tier': 'on_demand', 'finish_reason': 'stop', 'logprobs': None}, id='run--64058ebc-2e7c-471e-817c-153009c7dd3a-0', usage_metadata={'input_tokens': 286, 'output_tokens': 41, 'total_tokens': 327})}}\n"
     ]
    }
   ],
   "source": [
    "config = {\"configurable\" : {\"thread_id\" : \"2\"}}\n",
    "\n",
    "for convo in graph.stream({\"messages\" : \"My Name is Ankur and I like Vollyball.\"}, config = config, stream_mode=\"updates\"):\n",
    "    print(convo)"
   ]
  },
  {
   "cell_type": "code",
   "execution_count": 61,
   "id": "138b140f",
   "metadata": {},
   "outputs": [
    {
     "name": "stdout",
     "output_type": "stream",
     "text": [
      "{'messages': [HumanMessage(content='My Name is Ankur and I like Vollyball.', additional_kwargs={}, response_metadata={}, id='493ca932-2964-4303-b985-21bf674e4aa5'), AIMessage(content='Nice to meet you, Ankur. Volleyball is a great sport, both physically demanding and strategic. Do you play volleyball competitively or recreationally? What position do you usually play?', additional_kwargs={}, response_metadata={'token_usage': {'completion_tokens': 39, 'prompt_tokens': 47, 'total_tokens': 86, 'completion_time': 0.066931341, 'prompt_time': 0.007296073, 'queue_time': 0.045280987, 'total_time': 0.074227414}, 'model_name': 'llama-3.1-8b-instant', 'system_fingerprint': 'fp_c8fb515de2', 'service_tier': 'on_demand', 'finish_reason': 'stop', 'logprobs': None}, id='run--bfedf06f-8f78-47f9-8ce3-79662d3eb36e-0', usage_metadata={'input_tokens': 47, 'output_tokens': 39, 'total_tokens': 86}), HumanMessage(content='My Name is Ankur and I like Vollyball.', additional_kwargs={}, response_metadata={}, id='27664ff8-f350-49f8-8eed-64ca1b5642aa'), AIMessage(content=\"Hi Ankur, it's nice to meet you. Volleyball is a popular sport that requires skill, strategy, and teamwork. What's your favorite part about playing or watching volleyball?\", additional_kwargs={}, response_metadata={'token_usage': {'completion_tokens': 38, 'prompt_tokens': 107, 'total_tokens': 145, 'completion_time': 0.140301439, 'prompt_time': 0.009976214, 'queue_time': 0.046597966, 'total_time': 0.150277653}, 'model_name': 'llama-3.1-8b-instant', 'system_fingerprint': 'fp_2a85b31419', 'service_tier': 'on_demand', 'finish_reason': 'stop', 'logprobs': None}, id='run--963a8bc8-b656-4539-943b-22bc28ea1f9c-0', usage_metadata={'input_tokens': 107, 'output_tokens': 38, 'total_tokens': 145}), HumanMessage(content='My Name is Ankur and I like Vollyball.', additional_kwargs={}, response_metadata={}, id='847b7365-4e70-4424-ab7e-470885bb9af0'), AIMessage(content=\"Hi Ankur, it's nice chatting with you about volleyball. Are you a part of a local volleyball team or club, or do you play with friends?\", additional_kwargs={}, response_metadata={'token_usage': {'completion_tokens': 33, 'prompt_tokens': 166, 'total_tokens': 199, 'completion_time': 0.04910644, 'prompt_time': 0.034227813, 'queue_time': 0.044391156, 'total_time': 0.083334253}, 'model_name': 'llama-3.1-8b-instant', 'system_fingerprint': 'fp_2a85b31419', 'service_tier': 'on_demand', 'finish_reason': 'stop', 'logprobs': None}, id='run--7593b231-bf0a-49e0-9e3b-413244d3b951-0', usage_metadata={'input_tokens': 166, 'output_tokens': 33, 'total_tokens': 199}), HumanMessage(content='My Name is Ankur and I like Vollyball.', additional_kwargs={}, response_metadata={}, id='e73b34f0-8b2c-418c-bf9e-1096b1d9565d'), AIMessage(content=\"Hi Ankur, it seems like you're enthusiastic about volleyball. Have you ever watched the Olympics or professional volleyball leagues, like the FIVB World Championship or the NBA 2K Women's Professional Volleyball League?\", additional_kwargs={}, response_metadata={'token_usage': {'completion_tokens': 45, 'prompt_tokens': 220, 'total_tokens': 265, 'completion_time': 0.066477004, 'prompt_time': 0.03871785, 'queue_time': 0.04579709, 'total_time': 0.105194854}, 'model_name': 'llama-3.1-8b-instant', 'system_fingerprint': 'fp_2a85b31419', 'service_tier': 'on_demand', 'finish_reason': 'stop', 'logprobs': None}, id='run--d5b1f815-71ad-4353-8e00-854aa3f1fb6c-0', usage_metadata={'input_tokens': 220, 'output_tokens': 45, 'total_tokens': 265}), HumanMessage(content='My Name is Ankur and I like Vollyball.', additional_kwargs={}, response_metadata={}, id='73c04a7a-2e13-49cb-a24d-9a3abe996654'), AIMessage(content=\"Hi Ankur, you've mentioned your interest in volleyball a few times now. Do you have a favorite volleyball player, past or present, who inspires you with their skills or dedication to the sport?\", additional_kwargs={}, response_metadata={'token_usage': {'completion_tokens': 41, 'prompt_tokens': 286, 'total_tokens': 327, 'completion_time': 0.09733511, 'prompt_time': 0.097030014, 'queue_time': 0.043993846, 'total_time': 0.194365124}, 'model_name': 'llama-3.1-8b-instant', 'system_fingerprint': 'fp_2a85b31419', 'service_tier': 'on_demand', 'finish_reason': 'stop', 'logprobs': None}, id='run--64058ebc-2e7c-471e-817c-153009c7dd3a-0', usage_metadata={'input_tokens': 286, 'output_tokens': 41, 'total_tokens': 327}), HumanMessage(content='My Name is Ankur and I like Vollyball.', additional_kwargs={}, response_metadata={}, id='485fe2be-6802-4b18-ab8a-602d85a8d356')]}\n",
      "{'messages': [HumanMessage(content='My Name is Ankur and I like Vollyball.', additional_kwargs={}, response_metadata={}, id='493ca932-2964-4303-b985-21bf674e4aa5'), AIMessage(content='Nice to meet you, Ankur. Volleyball is a great sport, both physically demanding and strategic. Do you play volleyball competitively or recreationally? What position do you usually play?', additional_kwargs={}, response_metadata={'token_usage': {'completion_tokens': 39, 'prompt_tokens': 47, 'total_tokens': 86, 'completion_time': 0.066931341, 'prompt_time': 0.007296073, 'queue_time': 0.045280987, 'total_time': 0.074227414}, 'model_name': 'llama-3.1-8b-instant', 'system_fingerprint': 'fp_c8fb515de2', 'service_tier': 'on_demand', 'finish_reason': 'stop', 'logprobs': None}, id='run--bfedf06f-8f78-47f9-8ce3-79662d3eb36e-0', usage_metadata={'input_tokens': 47, 'output_tokens': 39, 'total_tokens': 86}), HumanMessage(content='My Name is Ankur and I like Vollyball.', additional_kwargs={}, response_metadata={}, id='27664ff8-f350-49f8-8eed-64ca1b5642aa'), AIMessage(content=\"Hi Ankur, it's nice to meet you. Volleyball is a popular sport that requires skill, strategy, and teamwork. What's your favorite part about playing or watching volleyball?\", additional_kwargs={}, response_metadata={'token_usage': {'completion_tokens': 38, 'prompt_tokens': 107, 'total_tokens': 145, 'completion_time': 0.140301439, 'prompt_time': 0.009976214, 'queue_time': 0.046597966, 'total_time': 0.150277653}, 'model_name': 'llama-3.1-8b-instant', 'system_fingerprint': 'fp_2a85b31419', 'service_tier': 'on_demand', 'finish_reason': 'stop', 'logprobs': None}, id='run--963a8bc8-b656-4539-943b-22bc28ea1f9c-0', usage_metadata={'input_tokens': 107, 'output_tokens': 38, 'total_tokens': 145}), HumanMessage(content='My Name is Ankur and I like Vollyball.', additional_kwargs={}, response_metadata={}, id='847b7365-4e70-4424-ab7e-470885bb9af0'), AIMessage(content=\"Hi Ankur, it's nice chatting with you about volleyball. Are you a part of a local volleyball team or club, or do you play with friends?\", additional_kwargs={}, response_metadata={'token_usage': {'completion_tokens': 33, 'prompt_tokens': 166, 'total_tokens': 199, 'completion_time': 0.04910644, 'prompt_time': 0.034227813, 'queue_time': 0.044391156, 'total_time': 0.083334253}, 'model_name': 'llama-3.1-8b-instant', 'system_fingerprint': 'fp_2a85b31419', 'service_tier': 'on_demand', 'finish_reason': 'stop', 'logprobs': None}, id='run--7593b231-bf0a-49e0-9e3b-413244d3b951-0', usage_metadata={'input_tokens': 166, 'output_tokens': 33, 'total_tokens': 199}), HumanMessage(content='My Name is Ankur and I like Vollyball.', additional_kwargs={}, response_metadata={}, id='e73b34f0-8b2c-418c-bf9e-1096b1d9565d'), AIMessage(content=\"Hi Ankur, it seems like you're enthusiastic about volleyball. Have you ever watched the Olympics or professional volleyball leagues, like the FIVB World Championship or the NBA 2K Women's Professional Volleyball League?\", additional_kwargs={}, response_metadata={'token_usage': {'completion_tokens': 45, 'prompt_tokens': 220, 'total_tokens': 265, 'completion_time': 0.066477004, 'prompt_time': 0.03871785, 'queue_time': 0.04579709, 'total_time': 0.105194854}, 'model_name': 'llama-3.1-8b-instant', 'system_fingerprint': 'fp_2a85b31419', 'service_tier': 'on_demand', 'finish_reason': 'stop', 'logprobs': None}, id='run--d5b1f815-71ad-4353-8e00-854aa3f1fb6c-0', usage_metadata={'input_tokens': 220, 'output_tokens': 45, 'total_tokens': 265}), HumanMessage(content='My Name is Ankur and I like Vollyball.', additional_kwargs={}, response_metadata={}, id='73c04a7a-2e13-49cb-a24d-9a3abe996654'), AIMessage(content=\"Hi Ankur, you've mentioned your interest in volleyball a few times now. Do you have a favorite volleyball player, past or present, who inspires you with their skills or dedication to the sport?\", additional_kwargs={}, response_metadata={'token_usage': {'completion_tokens': 41, 'prompt_tokens': 286, 'total_tokens': 327, 'completion_time': 0.09733511, 'prompt_time': 0.097030014, 'queue_time': 0.043993846, 'total_time': 0.194365124}, 'model_name': 'llama-3.1-8b-instant', 'system_fingerprint': 'fp_2a85b31419', 'service_tier': 'on_demand', 'finish_reason': 'stop', 'logprobs': None}, id='run--64058ebc-2e7c-471e-817c-153009c7dd3a-0', usage_metadata={'input_tokens': 286, 'output_tokens': 41, 'total_tokens': 327}), HumanMessage(content='My Name is Ankur and I like Vollyball.', additional_kwargs={}, response_metadata={}, id='485fe2be-6802-4b18-ab8a-602d85a8d356'), AIMessage(content='Hi Ankur. It seems like you enjoy talking about volleyball. Have you ever thought about participating in a volleyball tournament or competition? It could be a fun way to challenge yourself and meet other volleyball enthusiasts.', additional_kwargs={}, response_metadata={'token_usage': {'completion_tokens': 42, 'prompt_tokens': 348, 'total_tokens': 390, 'completion_time': 0.051928914, 'prompt_time': 0.024841293, 'queue_time': 0.044736467, 'total_time': 0.076770207}, 'model_name': 'llama-3.1-8b-instant', 'system_fingerprint': 'fp_2a85b31419', 'service_tier': 'on_demand', 'finish_reason': 'stop', 'logprobs': None}, id='run--7e894094-058d-464a-bf0c-2bf321512dd7-0', usage_metadata={'input_tokens': 348, 'output_tokens': 42, 'total_tokens': 390})]}\n"
     ]
    }
   ],
   "source": [
    "for convo in graph.stream({\"messages\" : \"My Name is Ankur and I like Vollyball.\"}, config = config, stream_mode=\"values\"):\n",
    "    print(convo)"
   ]
  },
  {
   "cell_type": "code",
   "execution_count": 62,
   "id": "033991bf",
   "metadata": {},
   "outputs": [
    {
     "name": "stdout",
     "output_type": "stream",
     "text": [
      "{'SuperBot': {'messages': AIMessage(content=\"Hello Ankur, it's great to meet you. Volleyball is a fantastic sport, both physically and mentally demanding. Are you a professional volleyball player, a recreational player, or do you just enjoy watching it?\\n\\nWhich position do you like to play in volleyball? Are you more of an attacker, a setter, or a blocker?\", additional_kwargs={}, response_metadata={'token_usage': {'completion_tokens': 68, 'prompt_tokens': 47, 'total_tokens': 115, 'completion_time': 0.117171347, 'prompt_time': 0.007304754, 'queue_time': 0.043703106, 'total_time': 0.124476101}, 'model_name': 'llama-3.1-8b-instant', 'system_fingerprint': 'fp_c8fb515de2', 'service_tier': 'on_demand', 'finish_reason': 'stop', 'logprobs': None}, id='run--2b1ffc49-97df-4570-9377-2ac6e8a247b6-0', usage_metadata={'input_tokens': 47, 'output_tokens': 68, 'total_tokens': 115})}}\n"
     ]
    }
   ],
   "source": [
    "config = {\"configurable\" : {\"thread_id\" : \"3\"}}\n",
    "\n",
    "for convo in graph.stream({\"messages\" : \"My Name is Ankur and I like Vollyball.\"}, config = config, stream_mode=\"updates\"):\n",
    "    print(convo)"
   ]
  },
  {
   "cell_type": "code",
   "execution_count": 63,
   "id": "d6db1053",
   "metadata": {},
   "outputs": [
    {
     "name": "stdout",
     "output_type": "stream",
     "text": [
      "{'messages': [HumanMessage(content='My Name is Ankur and I like Vollyball.', additional_kwargs={}, response_metadata={}, id='dbe77518-614b-494f-8258-8bbb571cc9b7'), AIMessage(content=\"Hello Ankur, it's great to meet you. Volleyball is a fantastic sport, both physically and mentally demanding. Are you a professional volleyball player, a recreational player, or do you just enjoy watching it?\\n\\nWhich position do you like to play in volleyball? Are you more of an attacker, a setter, or a blocker?\", additional_kwargs={}, response_metadata={'token_usage': {'completion_tokens': 68, 'prompt_tokens': 47, 'total_tokens': 115, 'completion_time': 0.117171347, 'prompt_time': 0.007304754, 'queue_time': 0.043703106, 'total_time': 0.124476101}, 'model_name': 'llama-3.1-8b-instant', 'system_fingerprint': 'fp_c8fb515de2', 'service_tier': 'on_demand', 'finish_reason': 'stop', 'logprobs': None}, id='run--2b1ffc49-97df-4570-9377-2ac6e8a247b6-0', usage_metadata={'input_tokens': 47, 'output_tokens': 68, 'total_tokens': 115}), HumanMessage(content='I also like Football.', additional_kwargs={}, response_metadata={}, id='c649a275-67a8-4514-9f5f-47482ce2a1a8')]}\n",
      "{'messages': [HumanMessage(content='My Name is Ankur and I like Vollyball.', additional_kwargs={}, response_metadata={}, id='dbe77518-614b-494f-8258-8bbb571cc9b7'), AIMessage(content=\"Hello Ankur, it's great to meet you. Volleyball is a fantastic sport, both physically and mentally demanding. Are you a professional volleyball player, a recreational player, or do you just enjoy watching it?\\n\\nWhich position do you like to play in volleyball? Are you more of an attacker, a setter, or a blocker?\", additional_kwargs={}, response_metadata={'token_usage': {'completion_tokens': 68, 'prompt_tokens': 47, 'total_tokens': 115, 'completion_time': 0.117171347, 'prompt_time': 0.007304754, 'queue_time': 0.043703106, 'total_time': 0.124476101}, 'model_name': 'llama-3.1-8b-instant', 'system_fingerprint': 'fp_c8fb515de2', 'service_tier': 'on_demand', 'finish_reason': 'stop', 'logprobs': None}, id='run--2b1ffc49-97df-4570-9377-2ac6e8a247b6-0', usage_metadata={'input_tokens': 47, 'output_tokens': 68, 'total_tokens': 115}), HumanMessage(content='I also like Football.', additional_kwargs={}, response_metadata={}, id='c649a275-67a8-4514-9f5f-47482ce2a1a8'), AIMessage(content=\"Football and volleyball are two very different sports, but both require a lot of skill, strategy, and teamwork.\\n\\nDo you have a favorite football team or league, Ankur? Are you more into the Indian Super League, English Premier League, or perhaps the Spanish La Liga?\\n\\nAnd do you have a preferred position in football? Are you a fan of goalkeepers, defenders, midfielders, or forwards?\\n\\nBy the way, it's great that you enjoy multiple sports. It's always good to have different interests and hobbies to keep you engaged and active!\", additional_kwargs={}, response_metadata={'token_usage': {'completion_tokens': 112, 'prompt_tokens': 129, 'total_tokens': 241, 'completion_time': 0.244836975, 'prompt_time': 0.011342952, 'queue_time': 0.046600757, 'total_time': 0.256179927}, 'model_name': 'llama-3.1-8b-instant', 'system_fingerprint': 'fp_2a85b31419', 'service_tier': 'on_demand', 'finish_reason': 'stop', 'logprobs': None}, id='run--7096ab58-bdc1-40c6-9fde-cbaec44a0626-0', usage_metadata={'input_tokens': 129, 'output_tokens': 112, 'total_tokens': 241})]}\n"
     ]
    }
   ],
   "source": [
    "for convo in graph.stream({\"messages\" : \"I also like Football.\"}, config = config, stream_mode=\"values\"):\n",
    "    print(convo)"
   ]
  },
  {
   "cell_type": "code",
   "execution_count": 65,
   "id": "7429cd45",
   "metadata": {},
   "outputs": [
    {
     "name": "stdout",
     "output_type": "stream",
     "text": [
      "{'event': 'on_chain_start', 'data': {'input': {'messages': 'My Name is Ankur and I like Vollyball.'}}, 'name': 'LangGraph', 'tags': [], 'run_id': 'a426b3de-4157-41f1-b587-4f3e7cc3b2e1', 'metadata': {'thread_id': '4'}, 'parent_ids': []}\n",
      "{'event': 'on_chain_start', 'data': {'input': {'messages': [HumanMessage(content='My Name is Ankur and I like Vollyball.', additional_kwargs={}, response_metadata={}, id='d8b5a6a1-8889-42af-b2d6-567e8e3feebd')]}}, 'name': 'SuperBot', 'tags': ['graph:step:1'], 'run_id': '5ec8f0a3-5460-4a7b-90dd-f64cb17a4026', 'metadata': {'thread_id': '4', 'langgraph_step': 1, 'langgraph_node': 'SuperBot', 'langgraph_triggers': ('branch:to:SuperBot',), 'langgraph_path': ('__pregel_pull', 'SuperBot'), 'langgraph_checkpoint_ns': 'SuperBot:8324b4fa-a27b-7b32-0008-e1f3bcb05a2c'}, 'parent_ids': ['a426b3de-4157-41f1-b587-4f3e7cc3b2e1']}\n",
      "{'event': 'on_chat_model_start', 'data': {'input': {'messages': [[HumanMessage(content='My Name is Ankur and I like Vollyball.', additional_kwargs={}, response_metadata={}, id='d8b5a6a1-8889-42af-b2d6-567e8e3feebd')]]}}, 'name': 'ChatGroq', 'tags': ['seq:step:1'], 'run_id': '9bb1e967-970c-4883-be1e-611f1404b26d', 'metadata': {'thread_id': '4', 'langgraph_step': 1, 'langgraph_node': 'SuperBot', 'langgraph_triggers': ('branch:to:SuperBot',), 'langgraph_path': ('__pregel_pull', 'SuperBot'), 'langgraph_checkpoint_ns': 'SuperBot:8324b4fa-a27b-7b32-0008-e1f3bcb05a2c', 'checkpoint_ns': 'SuperBot:8324b4fa-a27b-7b32-0008-e1f3bcb05a2c', 'ls_provider': 'groq', 'ls_model_name': 'llama-3.1-8b-instant', 'ls_model_type': 'chat', 'ls_temperature': 0.7}, 'parent_ids': ['a426b3de-4157-41f1-b587-4f3e7cc3b2e1', '5ec8f0a3-5460-4a7b-90dd-f64cb17a4026']}\n",
      "{'event': 'on_chat_model_stream', 'data': {'chunk': AIMessageChunk(content='', additional_kwargs={}, response_metadata={}, id='run--9bb1e967-970c-4883-be1e-611f1404b26d')}, 'run_id': '9bb1e967-970c-4883-be1e-611f1404b26d', 'name': 'ChatGroq', 'tags': ['seq:step:1'], 'metadata': {'thread_id': '4', 'langgraph_step': 1, 'langgraph_node': 'SuperBot', 'langgraph_triggers': ('branch:to:SuperBot',), 'langgraph_path': ('__pregel_pull', 'SuperBot'), 'langgraph_checkpoint_ns': 'SuperBot:8324b4fa-a27b-7b32-0008-e1f3bcb05a2c', 'checkpoint_ns': 'SuperBot:8324b4fa-a27b-7b32-0008-e1f3bcb05a2c', 'ls_provider': 'groq', 'ls_model_name': 'llama-3.1-8b-instant', 'ls_model_type': 'chat', 'ls_temperature': 0.7}, 'parent_ids': ['a426b3de-4157-41f1-b587-4f3e7cc3b2e1', '5ec8f0a3-5460-4a7b-90dd-f64cb17a4026']}\n",
      "{'event': 'on_chat_model_stream', 'data': {'chunk': AIMessageChunk(content='Nice', additional_kwargs={}, response_metadata={}, id='run--9bb1e967-970c-4883-be1e-611f1404b26d')}, 'run_id': '9bb1e967-970c-4883-be1e-611f1404b26d', 'name': 'ChatGroq', 'tags': ['seq:step:1'], 'metadata': {'thread_id': '4', 'langgraph_step': 1, 'langgraph_node': 'SuperBot', 'langgraph_triggers': ('branch:to:SuperBot',), 'langgraph_path': ('__pregel_pull', 'SuperBot'), 'langgraph_checkpoint_ns': 'SuperBot:8324b4fa-a27b-7b32-0008-e1f3bcb05a2c', 'checkpoint_ns': 'SuperBot:8324b4fa-a27b-7b32-0008-e1f3bcb05a2c', 'ls_provider': 'groq', 'ls_model_name': 'llama-3.1-8b-instant', 'ls_model_type': 'chat', 'ls_temperature': 0.7}, 'parent_ids': ['a426b3de-4157-41f1-b587-4f3e7cc3b2e1', '5ec8f0a3-5460-4a7b-90dd-f64cb17a4026']}\n",
      "{'event': 'on_chat_model_stream', 'data': {'chunk': AIMessageChunk(content=' to', additional_kwargs={}, response_metadata={}, id='run--9bb1e967-970c-4883-be1e-611f1404b26d')}, 'run_id': '9bb1e967-970c-4883-be1e-611f1404b26d', 'name': 'ChatGroq', 'tags': ['seq:step:1'], 'metadata': {'thread_id': '4', 'langgraph_step': 1, 'langgraph_node': 'SuperBot', 'langgraph_triggers': ('branch:to:SuperBot',), 'langgraph_path': ('__pregel_pull', 'SuperBot'), 'langgraph_checkpoint_ns': 'SuperBot:8324b4fa-a27b-7b32-0008-e1f3bcb05a2c', 'checkpoint_ns': 'SuperBot:8324b4fa-a27b-7b32-0008-e1f3bcb05a2c', 'ls_provider': 'groq', 'ls_model_name': 'llama-3.1-8b-instant', 'ls_model_type': 'chat', 'ls_temperature': 0.7}, 'parent_ids': ['a426b3de-4157-41f1-b587-4f3e7cc3b2e1', '5ec8f0a3-5460-4a7b-90dd-f64cb17a4026']}\n",
      "{'event': 'on_chat_model_stream', 'data': {'chunk': AIMessageChunk(content=' meet', additional_kwargs={}, response_metadata={}, id='run--9bb1e967-970c-4883-be1e-611f1404b26d')}, 'run_id': '9bb1e967-970c-4883-be1e-611f1404b26d', 'name': 'ChatGroq', 'tags': ['seq:step:1'], 'metadata': {'thread_id': '4', 'langgraph_step': 1, 'langgraph_node': 'SuperBot', 'langgraph_triggers': ('branch:to:SuperBot',), 'langgraph_path': ('__pregel_pull', 'SuperBot'), 'langgraph_checkpoint_ns': 'SuperBot:8324b4fa-a27b-7b32-0008-e1f3bcb05a2c', 'checkpoint_ns': 'SuperBot:8324b4fa-a27b-7b32-0008-e1f3bcb05a2c', 'ls_provider': 'groq', 'ls_model_name': 'llama-3.1-8b-instant', 'ls_model_type': 'chat', 'ls_temperature': 0.7}, 'parent_ids': ['a426b3de-4157-41f1-b587-4f3e7cc3b2e1', '5ec8f0a3-5460-4a7b-90dd-f64cb17a4026']}\n",
      "{'event': 'on_chat_model_stream', 'data': {'chunk': AIMessageChunk(content=' you', additional_kwargs={}, response_metadata={}, id='run--9bb1e967-970c-4883-be1e-611f1404b26d')}, 'run_id': '9bb1e967-970c-4883-be1e-611f1404b26d', 'name': 'ChatGroq', 'tags': ['seq:step:1'], 'metadata': {'thread_id': '4', 'langgraph_step': 1, 'langgraph_node': 'SuperBot', 'langgraph_triggers': ('branch:to:SuperBot',), 'langgraph_path': ('__pregel_pull', 'SuperBot'), 'langgraph_checkpoint_ns': 'SuperBot:8324b4fa-a27b-7b32-0008-e1f3bcb05a2c', 'checkpoint_ns': 'SuperBot:8324b4fa-a27b-7b32-0008-e1f3bcb05a2c', 'ls_provider': 'groq', 'ls_model_name': 'llama-3.1-8b-instant', 'ls_model_type': 'chat', 'ls_temperature': 0.7}, 'parent_ids': ['a426b3de-4157-41f1-b587-4f3e7cc3b2e1', '5ec8f0a3-5460-4a7b-90dd-f64cb17a4026']}\n",
      "{'event': 'on_chat_model_stream', 'data': {'chunk': AIMessageChunk(content=',', additional_kwargs={}, response_metadata={}, id='run--9bb1e967-970c-4883-be1e-611f1404b26d')}, 'run_id': '9bb1e967-970c-4883-be1e-611f1404b26d', 'name': 'ChatGroq', 'tags': ['seq:step:1'], 'metadata': {'thread_id': '4', 'langgraph_step': 1, 'langgraph_node': 'SuperBot', 'langgraph_triggers': ('branch:to:SuperBot',), 'langgraph_path': ('__pregel_pull', 'SuperBot'), 'langgraph_checkpoint_ns': 'SuperBot:8324b4fa-a27b-7b32-0008-e1f3bcb05a2c', 'checkpoint_ns': 'SuperBot:8324b4fa-a27b-7b32-0008-e1f3bcb05a2c', 'ls_provider': 'groq', 'ls_model_name': 'llama-3.1-8b-instant', 'ls_model_type': 'chat', 'ls_temperature': 0.7}, 'parent_ids': ['a426b3de-4157-41f1-b587-4f3e7cc3b2e1', '5ec8f0a3-5460-4a7b-90dd-f64cb17a4026']}\n",
      "{'event': 'on_chat_model_stream', 'data': {'chunk': AIMessageChunk(content=' Ank', additional_kwargs={}, response_metadata={}, id='run--9bb1e967-970c-4883-be1e-611f1404b26d')}, 'run_id': '9bb1e967-970c-4883-be1e-611f1404b26d', 'name': 'ChatGroq', 'tags': ['seq:step:1'], 'metadata': {'thread_id': '4', 'langgraph_step': 1, 'langgraph_node': 'SuperBot', 'langgraph_triggers': ('branch:to:SuperBot',), 'langgraph_path': ('__pregel_pull', 'SuperBot'), 'langgraph_checkpoint_ns': 'SuperBot:8324b4fa-a27b-7b32-0008-e1f3bcb05a2c', 'checkpoint_ns': 'SuperBot:8324b4fa-a27b-7b32-0008-e1f3bcb05a2c', 'ls_provider': 'groq', 'ls_model_name': 'llama-3.1-8b-instant', 'ls_model_type': 'chat', 'ls_temperature': 0.7}, 'parent_ids': ['a426b3de-4157-41f1-b587-4f3e7cc3b2e1', '5ec8f0a3-5460-4a7b-90dd-f64cb17a4026']}\n",
      "{'event': 'on_chat_model_stream', 'data': {'chunk': AIMessageChunk(content='ur', additional_kwargs={}, response_metadata={}, id='run--9bb1e967-970c-4883-be1e-611f1404b26d')}, 'run_id': '9bb1e967-970c-4883-be1e-611f1404b26d', 'name': 'ChatGroq', 'tags': ['seq:step:1'], 'metadata': {'thread_id': '4', 'langgraph_step': 1, 'langgraph_node': 'SuperBot', 'langgraph_triggers': ('branch:to:SuperBot',), 'langgraph_path': ('__pregel_pull', 'SuperBot'), 'langgraph_checkpoint_ns': 'SuperBot:8324b4fa-a27b-7b32-0008-e1f3bcb05a2c', 'checkpoint_ns': 'SuperBot:8324b4fa-a27b-7b32-0008-e1f3bcb05a2c', 'ls_provider': 'groq', 'ls_model_name': 'llama-3.1-8b-instant', 'ls_model_type': 'chat', 'ls_temperature': 0.7}, 'parent_ids': ['a426b3de-4157-41f1-b587-4f3e7cc3b2e1', '5ec8f0a3-5460-4a7b-90dd-f64cb17a4026']}\n",
      "{'event': 'on_chat_model_stream', 'data': {'chunk': AIMessageChunk(content='.', additional_kwargs={}, response_metadata={}, id='run--9bb1e967-970c-4883-be1e-611f1404b26d')}, 'run_id': '9bb1e967-970c-4883-be1e-611f1404b26d', 'name': 'ChatGroq', 'tags': ['seq:step:1'], 'metadata': {'thread_id': '4', 'langgraph_step': 1, 'langgraph_node': 'SuperBot', 'langgraph_triggers': ('branch:to:SuperBot',), 'langgraph_path': ('__pregel_pull', 'SuperBot'), 'langgraph_checkpoint_ns': 'SuperBot:8324b4fa-a27b-7b32-0008-e1f3bcb05a2c', 'checkpoint_ns': 'SuperBot:8324b4fa-a27b-7b32-0008-e1f3bcb05a2c', 'ls_provider': 'groq', 'ls_model_name': 'llama-3.1-8b-instant', 'ls_model_type': 'chat', 'ls_temperature': 0.7}, 'parent_ids': ['a426b3de-4157-41f1-b587-4f3e7cc3b2e1', '5ec8f0a3-5460-4a7b-90dd-f64cb17a4026']}\n",
      "{'event': 'on_chat_model_stream', 'data': {'chunk': AIMessageChunk(content=' Volley', additional_kwargs={}, response_metadata={}, id='run--9bb1e967-970c-4883-be1e-611f1404b26d')}, 'run_id': '9bb1e967-970c-4883-be1e-611f1404b26d', 'name': 'ChatGroq', 'tags': ['seq:step:1'], 'metadata': {'thread_id': '4', 'langgraph_step': 1, 'langgraph_node': 'SuperBot', 'langgraph_triggers': ('branch:to:SuperBot',), 'langgraph_path': ('__pregel_pull', 'SuperBot'), 'langgraph_checkpoint_ns': 'SuperBot:8324b4fa-a27b-7b32-0008-e1f3bcb05a2c', 'checkpoint_ns': 'SuperBot:8324b4fa-a27b-7b32-0008-e1f3bcb05a2c', 'ls_provider': 'groq', 'ls_model_name': 'llama-3.1-8b-instant', 'ls_model_type': 'chat', 'ls_temperature': 0.7}, 'parent_ids': ['a426b3de-4157-41f1-b587-4f3e7cc3b2e1', '5ec8f0a3-5460-4a7b-90dd-f64cb17a4026']}\n",
      "{'event': 'on_chat_model_stream', 'data': {'chunk': AIMessageChunk(content='ball', additional_kwargs={}, response_metadata={}, id='run--9bb1e967-970c-4883-be1e-611f1404b26d')}, 'run_id': '9bb1e967-970c-4883-be1e-611f1404b26d', 'name': 'ChatGroq', 'tags': ['seq:step:1'], 'metadata': {'thread_id': '4', 'langgraph_step': 1, 'langgraph_node': 'SuperBot', 'langgraph_triggers': ('branch:to:SuperBot',), 'langgraph_path': ('__pregel_pull', 'SuperBot'), 'langgraph_checkpoint_ns': 'SuperBot:8324b4fa-a27b-7b32-0008-e1f3bcb05a2c', 'checkpoint_ns': 'SuperBot:8324b4fa-a27b-7b32-0008-e1f3bcb05a2c', 'ls_provider': 'groq', 'ls_model_name': 'llama-3.1-8b-instant', 'ls_model_type': 'chat', 'ls_temperature': 0.7}, 'parent_ids': ['a426b3de-4157-41f1-b587-4f3e7cc3b2e1', '5ec8f0a3-5460-4a7b-90dd-f64cb17a4026']}\n",
      "{'event': 'on_chat_model_stream', 'data': {'chunk': AIMessageChunk(content=' is', additional_kwargs={}, response_metadata={}, id='run--9bb1e967-970c-4883-be1e-611f1404b26d')}, 'run_id': '9bb1e967-970c-4883-be1e-611f1404b26d', 'name': 'ChatGroq', 'tags': ['seq:step:1'], 'metadata': {'thread_id': '4', 'langgraph_step': 1, 'langgraph_node': 'SuperBot', 'langgraph_triggers': ('branch:to:SuperBot',), 'langgraph_path': ('__pregel_pull', 'SuperBot'), 'langgraph_checkpoint_ns': 'SuperBot:8324b4fa-a27b-7b32-0008-e1f3bcb05a2c', 'checkpoint_ns': 'SuperBot:8324b4fa-a27b-7b32-0008-e1f3bcb05a2c', 'ls_provider': 'groq', 'ls_model_name': 'llama-3.1-8b-instant', 'ls_model_type': 'chat', 'ls_temperature': 0.7}, 'parent_ids': ['a426b3de-4157-41f1-b587-4f3e7cc3b2e1', '5ec8f0a3-5460-4a7b-90dd-f64cb17a4026']}\n",
      "{'event': 'on_chat_model_stream', 'data': {'chunk': AIMessageChunk(content=' a', additional_kwargs={}, response_metadata={}, id='run--9bb1e967-970c-4883-be1e-611f1404b26d')}, 'run_id': '9bb1e967-970c-4883-be1e-611f1404b26d', 'name': 'ChatGroq', 'tags': ['seq:step:1'], 'metadata': {'thread_id': '4', 'langgraph_step': 1, 'langgraph_node': 'SuperBot', 'langgraph_triggers': ('branch:to:SuperBot',), 'langgraph_path': ('__pregel_pull', 'SuperBot'), 'langgraph_checkpoint_ns': 'SuperBot:8324b4fa-a27b-7b32-0008-e1f3bcb05a2c', 'checkpoint_ns': 'SuperBot:8324b4fa-a27b-7b32-0008-e1f3bcb05a2c', 'ls_provider': 'groq', 'ls_model_name': 'llama-3.1-8b-instant', 'ls_model_type': 'chat', 'ls_temperature': 0.7}, 'parent_ids': ['a426b3de-4157-41f1-b587-4f3e7cc3b2e1', '5ec8f0a3-5460-4a7b-90dd-f64cb17a4026']}\n",
      "{'event': 'on_chat_model_stream', 'data': {'chunk': AIMessageChunk(content=' fantastic', additional_kwargs={}, response_metadata={}, id='run--9bb1e967-970c-4883-be1e-611f1404b26d')}, 'run_id': '9bb1e967-970c-4883-be1e-611f1404b26d', 'name': 'ChatGroq', 'tags': ['seq:step:1'], 'metadata': {'thread_id': '4', 'langgraph_step': 1, 'langgraph_node': 'SuperBot', 'langgraph_triggers': ('branch:to:SuperBot',), 'langgraph_path': ('__pregel_pull', 'SuperBot'), 'langgraph_checkpoint_ns': 'SuperBot:8324b4fa-a27b-7b32-0008-e1f3bcb05a2c', 'checkpoint_ns': 'SuperBot:8324b4fa-a27b-7b32-0008-e1f3bcb05a2c', 'ls_provider': 'groq', 'ls_model_name': 'llama-3.1-8b-instant', 'ls_model_type': 'chat', 'ls_temperature': 0.7}, 'parent_ids': ['a426b3de-4157-41f1-b587-4f3e7cc3b2e1', '5ec8f0a3-5460-4a7b-90dd-f64cb17a4026']}\n",
      "{'event': 'on_chat_model_stream', 'data': {'chunk': AIMessageChunk(content=' sport', additional_kwargs={}, response_metadata={}, id='run--9bb1e967-970c-4883-be1e-611f1404b26d')}, 'run_id': '9bb1e967-970c-4883-be1e-611f1404b26d', 'name': 'ChatGroq', 'tags': ['seq:step:1'], 'metadata': {'thread_id': '4', 'langgraph_step': 1, 'langgraph_node': 'SuperBot', 'langgraph_triggers': ('branch:to:SuperBot',), 'langgraph_path': ('__pregel_pull', 'SuperBot'), 'langgraph_checkpoint_ns': 'SuperBot:8324b4fa-a27b-7b32-0008-e1f3bcb05a2c', 'checkpoint_ns': 'SuperBot:8324b4fa-a27b-7b32-0008-e1f3bcb05a2c', 'ls_provider': 'groq', 'ls_model_name': 'llama-3.1-8b-instant', 'ls_model_type': 'chat', 'ls_temperature': 0.7}, 'parent_ids': ['a426b3de-4157-41f1-b587-4f3e7cc3b2e1', '5ec8f0a3-5460-4a7b-90dd-f64cb17a4026']}\n",
      "{'event': 'on_chat_model_stream', 'data': {'chunk': AIMessageChunk(content='.', additional_kwargs={}, response_metadata={}, id='run--9bb1e967-970c-4883-be1e-611f1404b26d')}, 'run_id': '9bb1e967-970c-4883-be1e-611f1404b26d', 'name': 'ChatGroq', 'tags': ['seq:step:1'], 'metadata': {'thread_id': '4', 'langgraph_step': 1, 'langgraph_node': 'SuperBot', 'langgraph_triggers': ('branch:to:SuperBot',), 'langgraph_path': ('__pregel_pull', 'SuperBot'), 'langgraph_checkpoint_ns': 'SuperBot:8324b4fa-a27b-7b32-0008-e1f3bcb05a2c', 'checkpoint_ns': 'SuperBot:8324b4fa-a27b-7b32-0008-e1f3bcb05a2c', 'ls_provider': 'groq', 'ls_model_name': 'llama-3.1-8b-instant', 'ls_model_type': 'chat', 'ls_temperature': 0.7}, 'parent_ids': ['a426b3de-4157-41f1-b587-4f3e7cc3b2e1', '5ec8f0a3-5460-4a7b-90dd-f64cb17a4026']}\n",
      "{'event': 'on_chat_model_stream', 'data': {'chunk': AIMessageChunk(content=' Are', additional_kwargs={}, response_metadata={}, id='run--9bb1e967-970c-4883-be1e-611f1404b26d')}, 'run_id': '9bb1e967-970c-4883-be1e-611f1404b26d', 'name': 'ChatGroq', 'tags': ['seq:step:1'], 'metadata': {'thread_id': '4', 'langgraph_step': 1, 'langgraph_node': 'SuperBot', 'langgraph_triggers': ('branch:to:SuperBot',), 'langgraph_path': ('__pregel_pull', 'SuperBot'), 'langgraph_checkpoint_ns': 'SuperBot:8324b4fa-a27b-7b32-0008-e1f3bcb05a2c', 'checkpoint_ns': 'SuperBot:8324b4fa-a27b-7b32-0008-e1f3bcb05a2c', 'ls_provider': 'groq', 'ls_model_name': 'llama-3.1-8b-instant', 'ls_model_type': 'chat', 'ls_temperature': 0.7}, 'parent_ids': ['a426b3de-4157-41f1-b587-4f3e7cc3b2e1', '5ec8f0a3-5460-4a7b-90dd-f64cb17a4026']}\n",
      "{'event': 'on_chat_model_stream', 'data': {'chunk': AIMessageChunk(content=' you', additional_kwargs={}, response_metadata={}, id='run--9bb1e967-970c-4883-be1e-611f1404b26d')}, 'run_id': '9bb1e967-970c-4883-be1e-611f1404b26d', 'name': 'ChatGroq', 'tags': ['seq:step:1'], 'metadata': {'thread_id': '4', 'langgraph_step': 1, 'langgraph_node': 'SuperBot', 'langgraph_triggers': ('branch:to:SuperBot',), 'langgraph_path': ('__pregel_pull', 'SuperBot'), 'langgraph_checkpoint_ns': 'SuperBot:8324b4fa-a27b-7b32-0008-e1f3bcb05a2c', 'checkpoint_ns': 'SuperBot:8324b4fa-a27b-7b32-0008-e1f3bcb05a2c', 'ls_provider': 'groq', 'ls_model_name': 'llama-3.1-8b-instant', 'ls_model_type': 'chat', 'ls_temperature': 0.7}, 'parent_ids': ['a426b3de-4157-41f1-b587-4f3e7cc3b2e1', '5ec8f0a3-5460-4a7b-90dd-f64cb17a4026']}\n",
      "{'event': 'on_chat_model_stream', 'data': {'chunk': AIMessageChunk(content=' a', additional_kwargs={}, response_metadata={}, id='run--9bb1e967-970c-4883-be1e-611f1404b26d')}, 'run_id': '9bb1e967-970c-4883-be1e-611f1404b26d', 'name': 'ChatGroq', 'tags': ['seq:step:1'], 'metadata': {'thread_id': '4', 'langgraph_step': 1, 'langgraph_node': 'SuperBot', 'langgraph_triggers': ('branch:to:SuperBot',), 'langgraph_path': ('__pregel_pull', 'SuperBot'), 'langgraph_checkpoint_ns': 'SuperBot:8324b4fa-a27b-7b32-0008-e1f3bcb05a2c', 'checkpoint_ns': 'SuperBot:8324b4fa-a27b-7b32-0008-e1f3bcb05a2c', 'ls_provider': 'groq', 'ls_model_name': 'llama-3.1-8b-instant', 'ls_model_type': 'chat', 'ls_temperature': 0.7}, 'parent_ids': ['a426b3de-4157-41f1-b587-4f3e7cc3b2e1', '5ec8f0a3-5460-4a7b-90dd-f64cb17a4026']}\n",
      "{'event': 'on_chat_model_stream', 'data': {'chunk': AIMessageChunk(content=' player', additional_kwargs={}, response_metadata={}, id='run--9bb1e967-970c-4883-be1e-611f1404b26d')}, 'run_id': '9bb1e967-970c-4883-be1e-611f1404b26d', 'name': 'ChatGroq', 'tags': ['seq:step:1'], 'metadata': {'thread_id': '4', 'langgraph_step': 1, 'langgraph_node': 'SuperBot', 'langgraph_triggers': ('branch:to:SuperBot',), 'langgraph_path': ('__pregel_pull', 'SuperBot'), 'langgraph_checkpoint_ns': 'SuperBot:8324b4fa-a27b-7b32-0008-e1f3bcb05a2c', 'checkpoint_ns': 'SuperBot:8324b4fa-a27b-7b32-0008-e1f3bcb05a2c', 'ls_provider': 'groq', 'ls_model_name': 'llama-3.1-8b-instant', 'ls_model_type': 'chat', 'ls_temperature': 0.7}, 'parent_ids': ['a426b3de-4157-41f1-b587-4f3e7cc3b2e1', '5ec8f0a3-5460-4a7b-90dd-f64cb17a4026']}\n",
      "{'event': 'on_chat_model_stream', 'data': {'chunk': AIMessageChunk(content=',', additional_kwargs={}, response_metadata={}, id='run--9bb1e967-970c-4883-be1e-611f1404b26d')}, 'run_id': '9bb1e967-970c-4883-be1e-611f1404b26d', 'name': 'ChatGroq', 'tags': ['seq:step:1'], 'metadata': {'thread_id': '4', 'langgraph_step': 1, 'langgraph_node': 'SuperBot', 'langgraph_triggers': ('branch:to:SuperBot',), 'langgraph_path': ('__pregel_pull', 'SuperBot'), 'langgraph_checkpoint_ns': 'SuperBot:8324b4fa-a27b-7b32-0008-e1f3bcb05a2c', 'checkpoint_ns': 'SuperBot:8324b4fa-a27b-7b32-0008-e1f3bcb05a2c', 'ls_provider': 'groq', 'ls_model_name': 'llama-3.1-8b-instant', 'ls_model_type': 'chat', 'ls_temperature': 0.7}, 'parent_ids': ['a426b3de-4157-41f1-b587-4f3e7cc3b2e1', '5ec8f0a3-5460-4a7b-90dd-f64cb17a4026']}\n",
      "{'event': 'on_chat_model_stream', 'data': {'chunk': AIMessageChunk(content=' fan', additional_kwargs={}, response_metadata={}, id='run--9bb1e967-970c-4883-be1e-611f1404b26d')}, 'run_id': '9bb1e967-970c-4883-be1e-611f1404b26d', 'name': 'ChatGroq', 'tags': ['seq:step:1'], 'metadata': {'thread_id': '4', 'langgraph_step': 1, 'langgraph_node': 'SuperBot', 'langgraph_triggers': ('branch:to:SuperBot',), 'langgraph_path': ('__pregel_pull', 'SuperBot'), 'langgraph_checkpoint_ns': 'SuperBot:8324b4fa-a27b-7b32-0008-e1f3bcb05a2c', 'checkpoint_ns': 'SuperBot:8324b4fa-a27b-7b32-0008-e1f3bcb05a2c', 'ls_provider': 'groq', 'ls_model_name': 'llama-3.1-8b-instant', 'ls_model_type': 'chat', 'ls_temperature': 0.7}, 'parent_ids': ['a426b3de-4157-41f1-b587-4f3e7cc3b2e1', '5ec8f0a3-5460-4a7b-90dd-f64cb17a4026']}\n",
      "{'event': 'on_chat_model_stream', 'data': {'chunk': AIMessageChunk(content=',', additional_kwargs={}, response_metadata={}, id='run--9bb1e967-970c-4883-be1e-611f1404b26d')}, 'run_id': '9bb1e967-970c-4883-be1e-611f1404b26d', 'name': 'ChatGroq', 'tags': ['seq:step:1'], 'metadata': {'thread_id': '4', 'langgraph_step': 1, 'langgraph_node': 'SuperBot', 'langgraph_triggers': ('branch:to:SuperBot',), 'langgraph_path': ('__pregel_pull', 'SuperBot'), 'langgraph_checkpoint_ns': 'SuperBot:8324b4fa-a27b-7b32-0008-e1f3bcb05a2c', 'checkpoint_ns': 'SuperBot:8324b4fa-a27b-7b32-0008-e1f3bcb05a2c', 'ls_provider': 'groq', 'ls_model_name': 'llama-3.1-8b-instant', 'ls_model_type': 'chat', 'ls_temperature': 0.7}, 'parent_ids': ['a426b3de-4157-41f1-b587-4f3e7cc3b2e1', '5ec8f0a3-5460-4a7b-90dd-f64cb17a4026']}\n",
      "{'event': 'on_chat_model_stream', 'data': {'chunk': AIMessageChunk(content=' or', additional_kwargs={}, response_metadata={}, id='run--9bb1e967-970c-4883-be1e-611f1404b26d')}, 'run_id': '9bb1e967-970c-4883-be1e-611f1404b26d', 'name': 'ChatGroq', 'tags': ['seq:step:1'], 'metadata': {'thread_id': '4', 'langgraph_step': 1, 'langgraph_node': 'SuperBot', 'langgraph_triggers': ('branch:to:SuperBot',), 'langgraph_path': ('__pregel_pull', 'SuperBot'), 'langgraph_checkpoint_ns': 'SuperBot:8324b4fa-a27b-7b32-0008-e1f3bcb05a2c', 'checkpoint_ns': 'SuperBot:8324b4fa-a27b-7b32-0008-e1f3bcb05a2c', 'ls_provider': 'groq', 'ls_model_name': 'llama-3.1-8b-instant', 'ls_model_type': 'chat', 'ls_temperature': 0.7}, 'parent_ids': ['a426b3de-4157-41f1-b587-4f3e7cc3b2e1', '5ec8f0a3-5460-4a7b-90dd-f64cb17a4026']}\n",
      "{'event': 'on_chat_model_stream', 'data': {'chunk': AIMessageChunk(content=' coach', additional_kwargs={}, response_metadata={}, id='run--9bb1e967-970c-4883-be1e-611f1404b26d')}, 'run_id': '9bb1e967-970c-4883-be1e-611f1404b26d', 'name': 'ChatGroq', 'tags': ['seq:step:1'], 'metadata': {'thread_id': '4', 'langgraph_step': 1, 'langgraph_node': 'SuperBot', 'langgraph_triggers': ('branch:to:SuperBot',), 'langgraph_path': ('__pregel_pull', 'SuperBot'), 'langgraph_checkpoint_ns': 'SuperBot:8324b4fa-a27b-7b32-0008-e1f3bcb05a2c', 'checkpoint_ns': 'SuperBot:8324b4fa-a27b-7b32-0008-e1f3bcb05a2c', 'ls_provider': 'groq', 'ls_model_name': 'llama-3.1-8b-instant', 'ls_model_type': 'chat', 'ls_temperature': 0.7}, 'parent_ids': ['a426b3de-4157-41f1-b587-4f3e7cc3b2e1', '5ec8f0a3-5460-4a7b-90dd-f64cb17a4026']}\n",
      "{'event': 'on_chat_model_stream', 'data': {'chunk': AIMessageChunk(content='?', additional_kwargs={}, response_metadata={}, id='run--9bb1e967-970c-4883-be1e-611f1404b26d')}, 'run_id': '9bb1e967-970c-4883-be1e-611f1404b26d', 'name': 'ChatGroq', 'tags': ['seq:step:1'], 'metadata': {'thread_id': '4', 'langgraph_step': 1, 'langgraph_node': 'SuperBot', 'langgraph_triggers': ('branch:to:SuperBot',), 'langgraph_path': ('__pregel_pull', 'SuperBot'), 'langgraph_checkpoint_ns': 'SuperBot:8324b4fa-a27b-7b32-0008-e1f3bcb05a2c', 'checkpoint_ns': 'SuperBot:8324b4fa-a27b-7b32-0008-e1f3bcb05a2c', 'ls_provider': 'groq', 'ls_model_name': 'llama-3.1-8b-instant', 'ls_model_type': 'chat', 'ls_temperature': 0.7}, 'parent_ids': ['a426b3de-4157-41f1-b587-4f3e7cc3b2e1', '5ec8f0a3-5460-4a7b-90dd-f64cb17a4026']}\n",
      "{'event': 'on_chat_model_stream', 'data': {'chunk': AIMessageChunk(content=' Do', additional_kwargs={}, response_metadata={}, id='run--9bb1e967-970c-4883-be1e-611f1404b26d')}, 'run_id': '9bb1e967-970c-4883-be1e-611f1404b26d', 'name': 'ChatGroq', 'tags': ['seq:step:1'], 'metadata': {'thread_id': '4', 'langgraph_step': 1, 'langgraph_node': 'SuperBot', 'langgraph_triggers': ('branch:to:SuperBot',), 'langgraph_path': ('__pregel_pull', 'SuperBot'), 'langgraph_checkpoint_ns': 'SuperBot:8324b4fa-a27b-7b32-0008-e1f3bcb05a2c', 'checkpoint_ns': 'SuperBot:8324b4fa-a27b-7b32-0008-e1f3bcb05a2c', 'ls_provider': 'groq', 'ls_model_name': 'llama-3.1-8b-instant', 'ls_model_type': 'chat', 'ls_temperature': 0.7}, 'parent_ids': ['a426b3de-4157-41f1-b587-4f3e7cc3b2e1', '5ec8f0a3-5460-4a7b-90dd-f64cb17a4026']}\n",
      "{'event': 'on_chat_model_stream', 'data': {'chunk': AIMessageChunk(content=' you', additional_kwargs={}, response_metadata={}, id='run--9bb1e967-970c-4883-be1e-611f1404b26d')}, 'run_id': '9bb1e967-970c-4883-be1e-611f1404b26d', 'name': 'ChatGroq', 'tags': ['seq:step:1'], 'metadata': {'thread_id': '4', 'langgraph_step': 1, 'langgraph_node': 'SuperBot', 'langgraph_triggers': ('branch:to:SuperBot',), 'langgraph_path': ('__pregel_pull', 'SuperBot'), 'langgraph_checkpoint_ns': 'SuperBot:8324b4fa-a27b-7b32-0008-e1f3bcb05a2c', 'checkpoint_ns': 'SuperBot:8324b4fa-a27b-7b32-0008-e1f3bcb05a2c', 'ls_provider': 'groq', 'ls_model_name': 'llama-3.1-8b-instant', 'ls_model_type': 'chat', 'ls_temperature': 0.7}, 'parent_ids': ['a426b3de-4157-41f1-b587-4f3e7cc3b2e1', '5ec8f0a3-5460-4a7b-90dd-f64cb17a4026']}\n",
      "{'event': 'on_chat_model_stream', 'data': {'chunk': AIMessageChunk(content=' have', additional_kwargs={}, response_metadata={}, id='run--9bb1e967-970c-4883-be1e-611f1404b26d')}, 'run_id': '9bb1e967-970c-4883-be1e-611f1404b26d', 'name': 'ChatGroq', 'tags': ['seq:step:1'], 'metadata': {'thread_id': '4', 'langgraph_step': 1, 'langgraph_node': 'SuperBot', 'langgraph_triggers': ('branch:to:SuperBot',), 'langgraph_path': ('__pregel_pull', 'SuperBot'), 'langgraph_checkpoint_ns': 'SuperBot:8324b4fa-a27b-7b32-0008-e1f3bcb05a2c', 'checkpoint_ns': 'SuperBot:8324b4fa-a27b-7b32-0008-e1f3bcb05a2c', 'ls_provider': 'groq', 'ls_model_name': 'llama-3.1-8b-instant', 'ls_model_type': 'chat', 'ls_temperature': 0.7}, 'parent_ids': ['a426b3de-4157-41f1-b587-4f3e7cc3b2e1', '5ec8f0a3-5460-4a7b-90dd-f64cb17a4026']}\n",
      "{'event': 'on_chat_model_stream', 'data': {'chunk': AIMessageChunk(content=' a', additional_kwargs={}, response_metadata={}, id='run--9bb1e967-970c-4883-be1e-611f1404b26d')}, 'run_id': '9bb1e967-970c-4883-be1e-611f1404b26d', 'name': 'ChatGroq', 'tags': ['seq:step:1'], 'metadata': {'thread_id': '4', 'langgraph_step': 1, 'langgraph_node': 'SuperBot', 'langgraph_triggers': ('branch:to:SuperBot',), 'langgraph_path': ('__pregel_pull', 'SuperBot'), 'langgraph_checkpoint_ns': 'SuperBot:8324b4fa-a27b-7b32-0008-e1f3bcb05a2c', 'checkpoint_ns': 'SuperBot:8324b4fa-a27b-7b32-0008-e1f3bcb05a2c', 'ls_provider': 'groq', 'ls_model_name': 'llama-3.1-8b-instant', 'ls_model_type': 'chat', 'ls_temperature': 0.7}, 'parent_ids': ['a426b3de-4157-41f1-b587-4f3e7cc3b2e1', '5ec8f0a3-5460-4a7b-90dd-f64cb17a4026']}\n",
      "{'event': 'on_chat_model_stream', 'data': {'chunk': AIMessageChunk(content=' favorite', additional_kwargs={}, response_metadata={}, id='run--9bb1e967-970c-4883-be1e-611f1404b26d')}, 'run_id': '9bb1e967-970c-4883-be1e-611f1404b26d', 'name': 'ChatGroq', 'tags': ['seq:step:1'], 'metadata': {'thread_id': '4', 'langgraph_step': 1, 'langgraph_node': 'SuperBot', 'langgraph_triggers': ('branch:to:SuperBot',), 'langgraph_path': ('__pregel_pull', 'SuperBot'), 'langgraph_checkpoint_ns': 'SuperBot:8324b4fa-a27b-7b32-0008-e1f3bcb05a2c', 'checkpoint_ns': 'SuperBot:8324b4fa-a27b-7b32-0008-e1f3bcb05a2c', 'ls_provider': 'groq', 'ls_model_name': 'llama-3.1-8b-instant', 'ls_model_type': 'chat', 'ls_temperature': 0.7}, 'parent_ids': ['a426b3de-4157-41f1-b587-4f3e7cc3b2e1', '5ec8f0a3-5460-4a7b-90dd-f64cb17a4026']}\n",
      "{'event': 'on_chat_model_stream', 'data': {'chunk': AIMessageChunk(content=' volleyball', additional_kwargs={}, response_metadata={}, id='run--9bb1e967-970c-4883-be1e-611f1404b26d')}, 'run_id': '9bb1e967-970c-4883-be1e-611f1404b26d', 'name': 'ChatGroq', 'tags': ['seq:step:1'], 'metadata': {'thread_id': '4', 'langgraph_step': 1, 'langgraph_node': 'SuperBot', 'langgraph_triggers': ('branch:to:SuperBot',), 'langgraph_path': ('__pregel_pull', 'SuperBot'), 'langgraph_checkpoint_ns': 'SuperBot:8324b4fa-a27b-7b32-0008-e1f3bcb05a2c', 'checkpoint_ns': 'SuperBot:8324b4fa-a27b-7b32-0008-e1f3bcb05a2c', 'ls_provider': 'groq', 'ls_model_name': 'llama-3.1-8b-instant', 'ls_model_type': 'chat', 'ls_temperature': 0.7}, 'parent_ids': ['a426b3de-4157-41f1-b587-4f3e7cc3b2e1', '5ec8f0a3-5460-4a7b-90dd-f64cb17a4026']}\n",
      "{'event': 'on_chat_model_stream', 'data': {'chunk': AIMessageChunk(content=' team', additional_kwargs={}, response_metadata={}, id='run--9bb1e967-970c-4883-be1e-611f1404b26d')}, 'run_id': '9bb1e967-970c-4883-be1e-611f1404b26d', 'name': 'ChatGroq', 'tags': ['seq:step:1'], 'metadata': {'thread_id': '4', 'langgraph_step': 1, 'langgraph_node': 'SuperBot', 'langgraph_triggers': ('branch:to:SuperBot',), 'langgraph_path': ('__pregel_pull', 'SuperBot'), 'langgraph_checkpoint_ns': 'SuperBot:8324b4fa-a27b-7b32-0008-e1f3bcb05a2c', 'checkpoint_ns': 'SuperBot:8324b4fa-a27b-7b32-0008-e1f3bcb05a2c', 'ls_provider': 'groq', 'ls_model_name': 'llama-3.1-8b-instant', 'ls_model_type': 'chat', 'ls_temperature': 0.7}, 'parent_ids': ['a426b3de-4157-41f1-b587-4f3e7cc3b2e1', '5ec8f0a3-5460-4a7b-90dd-f64cb17a4026']}\n",
      "{'event': 'on_chat_model_stream', 'data': {'chunk': AIMessageChunk(content=' or', additional_kwargs={}, response_metadata={}, id='run--9bb1e967-970c-4883-be1e-611f1404b26d')}, 'run_id': '9bb1e967-970c-4883-be1e-611f1404b26d', 'name': 'ChatGroq', 'tags': ['seq:step:1'], 'metadata': {'thread_id': '4', 'langgraph_step': 1, 'langgraph_node': 'SuperBot', 'langgraph_triggers': ('branch:to:SuperBot',), 'langgraph_path': ('__pregel_pull', 'SuperBot'), 'langgraph_checkpoint_ns': 'SuperBot:8324b4fa-a27b-7b32-0008-e1f3bcb05a2c', 'checkpoint_ns': 'SuperBot:8324b4fa-a27b-7b32-0008-e1f3bcb05a2c', 'ls_provider': 'groq', 'ls_model_name': 'llama-3.1-8b-instant', 'ls_model_type': 'chat', 'ls_temperature': 0.7}, 'parent_ids': ['a426b3de-4157-41f1-b587-4f3e7cc3b2e1', '5ec8f0a3-5460-4a7b-90dd-f64cb17a4026']}\n",
      "{'event': 'on_chat_model_stream', 'data': {'chunk': AIMessageChunk(content=' league', additional_kwargs={}, response_metadata={}, id='run--9bb1e967-970c-4883-be1e-611f1404b26d')}, 'run_id': '9bb1e967-970c-4883-be1e-611f1404b26d', 'name': 'ChatGroq', 'tags': ['seq:step:1'], 'metadata': {'thread_id': '4', 'langgraph_step': 1, 'langgraph_node': 'SuperBot', 'langgraph_triggers': ('branch:to:SuperBot',), 'langgraph_path': ('__pregel_pull', 'SuperBot'), 'langgraph_checkpoint_ns': 'SuperBot:8324b4fa-a27b-7b32-0008-e1f3bcb05a2c', 'checkpoint_ns': 'SuperBot:8324b4fa-a27b-7b32-0008-e1f3bcb05a2c', 'ls_provider': 'groq', 'ls_model_name': 'llama-3.1-8b-instant', 'ls_model_type': 'chat', 'ls_temperature': 0.7}, 'parent_ids': ['a426b3de-4157-41f1-b587-4f3e7cc3b2e1', '5ec8f0a3-5460-4a7b-90dd-f64cb17a4026']}\n",
      "{'event': 'on_chat_model_stream', 'data': {'chunk': AIMessageChunk(content=',', additional_kwargs={}, response_metadata={}, id='run--9bb1e967-970c-4883-be1e-611f1404b26d')}, 'run_id': '9bb1e967-970c-4883-be1e-611f1404b26d', 'name': 'ChatGroq', 'tags': ['seq:step:1'], 'metadata': {'thread_id': '4', 'langgraph_step': 1, 'langgraph_node': 'SuperBot', 'langgraph_triggers': ('branch:to:SuperBot',), 'langgraph_path': ('__pregel_pull', 'SuperBot'), 'langgraph_checkpoint_ns': 'SuperBot:8324b4fa-a27b-7b32-0008-e1f3bcb05a2c', 'checkpoint_ns': 'SuperBot:8324b4fa-a27b-7b32-0008-e1f3bcb05a2c', 'ls_provider': 'groq', 'ls_model_name': 'llama-3.1-8b-instant', 'ls_model_type': 'chat', 'ls_temperature': 0.7}, 'parent_ids': ['a426b3de-4157-41f1-b587-4f3e7cc3b2e1', '5ec8f0a3-5460-4a7b-90dd-f64cb17a4026']}\n",
      "{'event': 'on_chat_model_stream', 'data': {'chunk': AIMessageChunk(content=' such', additional_kwargs={}, response_metadata={}, id='run--9bb1e967-970c-4883-be1e-611f1404b26d')}, 'run_id': '9bb1e967-970c-4883-be1e-611f1404b26d', 'name': 'ChatGroq', 'tags': ['seq:step:1'], 'metadata': {'thread_id': '4', 'langgraph_step': 1, 'langgraph_node': 'SuperBot', 'langgraph_triggers': ('branch:to:SuperBot',), 'langgraph_path': ('__pregel_pull', 'SuperBot'), 'langgraph_checkpoint_ns': 'SuperBot:8324b4fa-a27b-7b32-0008-e1f3bcb05a2c', 'checkpoint_ns': 'SuperBot:8324b4fa-a27b-7b32-0008-e1f3bcb05a2c', 'ls_provider': 'groq', 'ls_model_name': 'llama-3.1-8b-instant', 'ls_model_type': 'chat', 'ls_temperature': 0.7}, 'parent_ids': ['a426b3de-4157-41f1-b587-4f3e7cc3b2e1', '5ec8f0a3-5460-4a7b-90dd-f64cb17a4026']}\n",
      "{'event': 'on_chat_model_stream', 'data': {'chunk': AIMessageChunk(content=' as', additional_kwargs={}, response_metadata={}, id='run--9bb1e967-970c-4883-be1e-611f1404b26d')}, 'run_id': '9bb1e967-970c-4883-be1e-611f1404b26d', 'name': 'ChatGroq', 'tags': ['seq:step:1'], 'metadata': {'thread_id': '4', 'langgraph_step': 1, 'langgraph_node': 'SuperBot', 'langgraph_triggers': ('branch:to:SuperBot',), 'langgraph_path': ('__pregel_pull', 'SuperBot'), 'langgraph_checkpoint_ns': 'SuperBot:8324b4fa-a27b-7b32-0008-e1f3bcb05a2c', 'checkpoint_ns': 'SuperBot:8324b4fa-a27b-7b32-0008-e1f3bcb05a2c', 'ls_provider': 'groq', 'ls_model_name': 'llama-3.1-8b-instant', 'ls_model_type': 'chat', 'ls_temperature': 0.7}, 'parent_ids': ['a426b3de-4157-41f1-b587-4f3e7cc3b2e1', '5ec8f0a3-5460-4a7b-90dd-f64cb17a4026']}\n",
      "{'event': 'on_chat_model_stream', 'data': {'chunk': AIMessageChunk(content=' the', additional_kwargs={}, response_metadata={}, id='run--9bb1e967-970c-4883-be1e-611f1404b26d')}, 'run_id': '9bb1e967-970c-4883-be1e-611f1404b26d', 'name': 'ChatGroq', 'tags': ['seq:step:1'], 'metadata': {'thread_id': '4', 'langgraph_step': 1, 'langgraph_node': 'SuperBot', 'langgraph_triggers': ('branch:to:SuperBot',), 'langgraph_path': ('__pregel_pull', 'SuperBot'), 'langgraph_checkpoint_ns': 'SuperBot:8324b4fa-a27b-7b32-0008-e1f3bcb05a2c', 'checkpoint_ns': 'SuperBot:8324b4fa-a27b-7b32-0008-e1f3bcb05a2c', 'ls_provider': 'groq', 'ls_model_name': 'llama-3.1-8b-instant', 'ls_model_type': 'chat', 'ls_temperature': 0.7}, 'parent_ids': ['a426b3de-4157-41f1-b587-4f3e7cc3b2e1', '5ec8f0a3-5460-4a7b-90dd-f64cb17a4026']}\n",
      "{'event': 'on_chat_model_stream', 'data': {'chunk': AIMessageChunk(content=' NBA', additional_kwargs={}, response_metadata={}, id='run--9bb1e967-970c-4883-be1e-611f1404b26d')}, 'run_id': '9bb1e967-970c-4883-be1e-611f1404b26d', 'name': 'ChatGroq', 'tags': ['seq:step:1'], 'metadata': {'thread_id': '4', 'langgraph_step': 1, 'langgraph_node': 'SuperBot', 'langgraph_triggers': ('branch:to:SuperBot',), 'langgraph_path': ('__pregel_pull', 'SuperBot'), 'langgraph_checkpoint_ns': 'SuperBot:8324b4fa-a27b-7b32-0008-e1f3bcb05a2c', 'checkpoint_ns': 'SuperBot:8324b4fa-a27b-7b32-0008-e1f3bcb05a2c', 'ls_provider': 'groq', 'ls_model_name': 'llama-3.1-8b-instant', 'ls_model_type': 'chat', 'ls_temperature': 0.7}, 'parent_ids': ['a426b3de-4157-41f1-b587-4f3e7cc3b2e1', '5ec8f0a3-5460-4a7b-90dd-f64cb17a4026']}\n",
      "{'event': 'on_chat_model_stream', 'data': {'chunk': AIMessageChunk(content=' or', additional_kwargs={}, response_metadata={}, id='run--9bb1e967-970c-4883-be1e-611f1404b26d')}, 'run_id': '9bb1e967-970c-4883-be1e-611f1404b26d', 'name': 'ChatGroq', 'tags': ['seq:step:1'], 'metadata': {'thread_id': '4', 'langgraph_step': 1, 'langgraph_node': 'SuperBot', 'langgraph_triggers': ('branch:to:SuperBot',), 'langgraph_path': ('__pregel_pull', 'SuperBot'), 'langgraph_checkpoint_ns': 'SuperBot:8324b4fa-a27b-7b32-0008-e1f3bcb05a2c', 'checkpoint_ns': 'SuperBot:8324b4fa-a27b-7b32-0008-e1f3bcb05a2c', 'ls_provider': 'groq', 'ls_model_name': 'llama-3.1-8b-instant', 'ls_model_type': 'chat', 'ls_temperature': 0.7}, 'parent_ids': ['a426b3de-4157-41f1-b587-4f3e7cc3b2e1', '5ec8f0a3-5460-4a7b-90dd-f64cb17a4026']}\n",
      "{'event': 'on_chat_model_stream', 'data': {'chunk': AIMessageChunk(content=' the', additional_kwargs={}, response_metadata={}, id='run--9bb1e967-970c-4883-be1e-611f1404b26d')}, 'run_id': '9bb1e967-970c-4883-be1e-611f1404b26d', 'name': 'ChatGroq', 'tags': ['seq:step:1'], 'metadata': {'thread_id': '4', 'langgraph_step': 1, 'langgraph_node': 'SuperBot', 'langgraph_triggers': ('branch:to:SuperBot',), 'langgraph_path': ('__pregel_pull', 'SuperBot'), 'langgraph_checkpoint_ns': 'SuperBot:8324b4fa-a27b-7b32-0008-e1f3bcb05a2c', 'checkpoint_ns': 'SuperBot:8324b4fa-a27b-7b32-0008-e1f3bcb05a2c', 'ls_provider': 'groq', 'ls_model_name': 'llama-3.1-8b-instant', 'ls_model_type': 'chat', 'ls_temperature': 0.7}, 'parent_ids': ['a426b3de-4157-41f1-b587-4f3e7cc3b2e1', '5ec8f0a3-5460-4a7b-90dd-f64cb17a4026']}\n",
      "{'event': 'on_chat_model_stream', 'data': {'chunk': AIMessageChunk(content=' Olympic', additional_kwargs={}, response_metadata={}, id='run--9bb1e967-970c-4883-be1e-611f1404b26d')}, 'run_id': '9bb1e967-970c-4883-be1e-611f1404b26d', 'name': 'ChatGroq', 'tags': ['seq:step:1'], 'metadata': {'thread_id': '4', 'langgraph_step': 1, 'langgraph_node': 'SuperBot', 'langgraph_triggers': ('branch:to:SuperBot',), 'langgraph_path': ('__pregel_pull', 'SuperBot'), 'langgraph_checkpoint_ns': 'SuperBot:8324b4fa-a27b-7b32-0008-e1f3bcb05a2c', 'checkpoint_ns': 'SuperBot:8324b4fa-a27b-7b32-0008-e1f3bcb05a2c', 'ls_provider': 'groq', 'ls_model_name': 'llama-3.1-8b-instant', 'ls_model_type': 'chat', 'ls_temperature': 0.7}, 'parent_ids': ['a426b3de-4157-41f1-b587-4f3e7cc3b2e1', '5ec8f0a3-5460-4a7b-90dd-f64cb17a4026']}\n",
      "{'event': 'on_chat_model_stream', 'data': {'chunk': AIMessageChunk(content=' volleyball', additional_kwargs={}, response_metadata={}, id='run--9bb1e967-970c-4883-be1e-611f1404b26d')}, 'run_id': '9bb1e967-970c-4883-be1e-611f1404b26d', 'name': 'ChatGroq', 'tags': ['seq:step:1'], 'metadata': {'thread_id': '4', 'langgraph_step': 1, 'langgraph_node': 'SuperBot', 'langgraph_triggers': ('branch:to:SuperBot',), 'langgraph_path': ('__pregel_pull', 'SuperBot'), 'langgraph_checkpoint_ns': 'SuperBot:8324b4fa-a27b-7b32-0008-e1f3bcb05a2c', 'checkpoint_ns': 'SuperBot:8324b4fa-a27b-7b32-0008-e1f3bcb05a2c', 'ls_provider': 'groq', 'ls_model_name': 'llama-3.1-8b-instant', 'ls_model_type': 'chat', 'ls_temperature': 0.7}, 'parent_ids': ['a426b3de-4157-41f1-b587-4f3e7cc3b2e1', '5ec8f0a3-5460-4a7b-90dd-f64cb17a4026']}\n",
      "{'event': 'on_chat_model_stream', 'data': {'chunk': AIMessageChunk(content=' team', additional_kwargs={}, response_metadata={}, id='run--9bb1e967-970c-4883-be1e-611f1404b26d')}, 'run_id': '9bb1e967-970c-4883-be1e-611f1404b26d', 'name': 'ChatGroq', 'tags': ['seq:step:1'], 'metadata': {'thread_id': '4', 'langgraph_step': 1, 'langgraph_node': 'SuperBot', 'langgraph_triggers': ('branch:to:SuperBot',), 'langgraph_path': ('__pregel_pull', 'SuperBot'), 'langgraph_checkpoint_ns': 'SuperBot:8324b4fa-a27b-7b32-0008-e1f3bcb05a2c', 'checkpoint_ns': 'SuperBot:8324b4fa-a27b-7b32-0008-e1f3bcb05a2c', 'ls_provider': 'groq', 'ls_model_name': 'llama-3.1-8b-instant', 'ls_model_type': 'chat', 'ls_temperature': 0.7}, 'parent_ids': ['a426b3de-4157-41f1-b587-4f3e7cc3b2e1', '5ec8f0a3-5460-4a7b-90dd-f64cb17a4026']}\n",
      "{'event': 'on_chat_model_stream', 'data': {'chunk': AIMessageChunk(content='?', additional_kwargs={}, response_metadata={}, id='run--9bb1e967-970c-4883-be1e-611f1404b26d')}, 'run_id': '9bb1e967-970c-4883-be1e-611f1404b26d', 'name': 'ChatGroq', 'tags': ['seq:step:1'], 'metadata': {'thread_id': '4', 'langgraph_step': 1, 'langgraph_node': 'SuperBot', 'langgraph_triggers': ('branch:to:SuperBot',), 'langgraph_path': ('__pregel_pull', 'SuperBot'), 'langgraph_checkpoint_ns': 'SuperBot:8324b4fa-a27b-7b32-0008-e1f3bcb05a2c', 'checkpoint_ns': 'SuperBot:8324b4fa-a27b-7b32-0008-e1f3bcb05a2c', 'ls_provider': 'groq', 'ls_model_name': 'llama-3.1-8b-instant', 'ls_model_type': 'chat', 'ls_temperature': 0.7}, 'parent_ids': ['a426b3de-4157-41f1-b587-4f3e7cc3b2e1', '5ec8f0a3-5460-4a7b-90dd-f64cb17a4026']}\n",
      "{'event': 'on_chat_model_stream', 'data': {'chunk': AIMessageChunk(content='', additional_kwargs={}, response_metadata={'finish_reason': 'stop', 'model_name': 'llama-3.1-8b-instant', 'system_fingerprint': 'fp_c8fb515de2', 'service_tier': 'on_demand'}, id='run--9bb1e967-970c-4883-be1e-611f1404b26d', usage_metadata={'input_tokens': 47, 'output_tokens': 46, 'total_tokens': 93})}, 'run_id': '9bb1e967-970c-4883-be1e-611f1404b26d', 'name': 'ChatGroq', 'tags': ['seq:step:1'], 'metadata': {'thread_id': '4', 'langgraph_step': 1, 'langgraph_node': 'SuperBot', 'langgraph_triggers': ('branch:to:SuperBot',), 'langgraph_path': ('__pregel_pull', 'SuperBot'), 'langgraph_checkpoint_ns': 'SuperBot:8324b4fa-a27b-7b32-0008-e1f3bcb05a2c', 'checkpoint_ns': 'SuperBot:8324b4fa-a27b-7b32-0008-e1f3bcb05a2c', 'ls_provider': 'groq', 'ls_model_name': 'llama-3.1-8b-instant', 'ls_model_type': 'chat', 'ls_temperature': 0.7}, 'parent_ids': ['a426b3de-4157-41f1-b587-4f3e7cc3b2e1', '5ec8f0a3-5460-4a7b-90dd-f64cb17a4026']}\n",
      "{'event': 'on_chat_model_end', 'data': {'output': AIMessage(content='Nice to meet you, Ankur. Volleyball is a fantastic sport. Are you a player, fan, or coach? Do you have a favorite volleyball team or league, such as the NBA or the Olympic volleyball team?', additional_kwargs={}, response_metadata={'finish_reason': 'stop', 'model_name': 'llama-3.1-8b-instant', 'system_fingerprint': 'fp_c8fb515de2', 'service_tier': 'on_demand'}, id='run--9bb1e967-970c-4883-be1e-611f1404b26d', usage_metadata={'input_tokens': 47, 'output_tokens': 46, 'total_tokens': 93}), 'input': {'messages': [[HumanMessage(content='My Name is Ankur and I like Vollyball.', additional_kwargs={}, response_metadata={}, id='d8b5a6a1-8889-42af-b2d6-567e8e3feebd')]]}}, 'run_id': '9bb1e967-970c-4883-be1e-611f1404b26d', 'name': 'ChatGroq', 'tags': ['seq:step:1'], 'metadata': {'thread_id': '4', 'langgraph_step': 1, 'langgraph_node': 'SuperBot', 'langgraph_triggers': ('branch:to:SuperBot',), 'langgraph_path': ('__pregel_pull', 'SuperBot'), 'langgraph_checkpoint_ns': 'SuperBot:8324b4fa-a27b-7b32-0008-e1f3bcb05a2c', 'checkpoint_ns': 'SuperBot:8324b4fa-a27b-7b32-0008-e1f3bcb05a2c', 'ls_provider': 'groq', 'ls_model_name': 'llama-3.1-8b-instant', 'ls_model_type': 'chat', 'ls_temperature': 0.7}, 'parent_ids': ['a426b3de-4157-41f1-b587-4f3e7cc3b2e1', '5ec8f0a3-5460-4a7b-90dd-f64cb17a4026']}\n",
      "{'event': 'on_chain_stream', 'run_id': '5ec8f0a3-5460-4a7b-90dd-f64cb17a4026', 'name': 'SuperBot', 'tags': ['graph:step:1'], 'metadata': {'thread_id': '4', 'langgraph_step': 1, 'langgraph_node': 'SuperBot', 'langgraph_triggers': ('branch:to:SuperBot',), 'langgraph_path': ('__pregel_pull', 'SuperBot'), 'langgraph_checkpoint_ns': 'SuperBot:8324b4fa-a27b-7b32-0008-e1f3bcb05a2c'}, 'data': {'chunk': {'messages': AIMessage(content='Nice to meet you, Ankur. Volleyball is a fantastic sport. Are you a player, fan, or coach? Do you have a favorite volleyball team or league, such as the NBA or the Olympic volleyball team?', additional_kwargs={}, response_metadata={'finish_reason': 'stop', 'model_name': 'llama-3.1-8b-instant', 'system_fingerprint': 'fp_c8fb515de2', 'service_tier': 'on_demand'}, id='run--9bb1e967-970c-4883-be1e-611f1404b26d', usage_metadata={'input_tokens': 47, 'output_tokens': 46, 'total_tokens': 93})}}, 'parent_ids': ['a426b3de-4157-41f1-b587-4f3e7cc3b2e1']}\n",
      "{'event': 'on_chain_end', 'data': {'output': {'messages': AIMessage(content='Nice to meet you, Ankur. Volleyball is a fantastic sport. Are you a player, fan, or coach? Do you have a favorite volleyball team or league, such as the NBA or the Olympic volleyball team?', additional_kwargs={}, response_metadata={'finish_reason': 'stop', 'model_name': 'llama-3.1-8b-instant', 'system_fingerprint': 'fp_c8fb515de2', 'service_tier': 'on_demand'}, id='run--9bb1e967-970c-4883-be1e-611f1404b26d', usage_metadata={'input_tokens': 47, 'output_tokens': 46, 'total_tokens': 93})}, 'input': {'messages': [HumanMessage(content='My Name is Ankur and I like Vollyball.', additional_kwargs={}, response_metadata={}, id='d8b5a6a1-8889-42af-b2d6-567e8e3feebd')]}}, 'run_id': '5ec8f0a3-5460-4a7b-90dd-f64cb17a4026', 'name': 'SuperBot', 'tags': ['graph:step:1'], 'metadata': {'thread_id': '4', 'langgraph_step': 1, 'langgraph_node': 'SuperBot', 'langgraph_triggers': ('branch:to:SuperBot',), 'langgraph_path': ('__pregel_pull', 'SuperBot'), 'langgraph_checkpoint_ns': 'SuperBot:8324b4fa-a27b-7b32-0008-e1f3bcb05a2c'}, 'parent_ids': ['a426b3de-4157-41f1-b587-4f3e7cc3b2e1']}\n",
      "{'event': 'on_chain_stream', 'run_id': 'a426b3de-4157-41f1-b587-4f3e7cc3b2e1', 'name': 'LangGraph', 'tags': [], 'metadata': {'thread_id': '4'}, 'data': {'chunk': {'SuperBot': {'messages': AIMessage(content='Nice to meet you, Ankur. Volleyball is a fantastic sport. Are you a player, fan, or coach? Do you have a favorite volleyball team or league, such as the NBA or the Olympic volleyball team?', additional_kwargs={}, response_metadata={'finish_reason': 'stop', 'model_name': 'llama-3.1-8b-instant', 'system_fingerprint': 'fp_c8fb515de2', 'service_tier': 'on_demand'}, id='run--9bb1e967-970c-4883-be1e-611f1404b26d', usage_metadata={'input_tokens': 47, 'output_tokens': 46, 'total_tokens': 93})}}}, 'parent_ids': []}\n",
      "{'event': 'on_chain_end', 'data': {'output': {'messages': [HumanMessage(content='My Name is Ankur and I like Vollyball.', additional_kwargs={}, response_metadata={}, id='d8b5a6a1-8889-42af-b2d6-567e8e3feebd'), AIMessage(content='Nice to meet you, Ankur. Volleyball is a fantastic sport. Are you a player, fan, or coach? Do you have a favorite volleyball team or league, such as the NBA or the Olympic volleyball team?', additional_kwargs={}, response_metadata={'finish_reason': 'stop', 'model_name': 'llama-3.1-8b-instant', 'system_fingerprint': 'fp_c8fb515de2', 'service_tier': 'on_demand'}, id='run--9bb1e967-970c-4883-be1e-611f1404b26d', usage_metadata={'input_tokens': 47, 'output_tokens': 46, 'total_tokens': 93})]}}, 'run_id': 'a426b3de-4157-41f1-b587-4f3e7cc3b2e1', 'name': 'LangGraph', 'tags': [], 'metadata': {'thread_id': '4'}, 'parent_ids': []}\n"
     ]
    }
   ],
   "source": [
    "config = {\"configurable\" : {\"thread_id\" : \"4\"}}\n",
    "\n",
    "async for convo in graph.astream_events({\"messages\" : \"My Name is Ankur and I like Vollyball.\"}, config = config):\n",
    "    print(convo)"
   ]
  },
  {
   "cell_type": "code",
   "execution_count": null,
   "id": "3332c434",
   "metadata": {},
   "outputs": [],
   "source": []
  }
 ],
 "metadata": {
  "kernelspec": {
   "display_name": "Agentic_Langgraph",
   "language": "python",
   "name": "python3"
  },
  "language_info": {
   "codemirror_mode": {
    "name": "ipython",
    "version": 3
   },
   "file_extension": ".py",
   "mimetype": "text/x-python",
   "name": "python",
   "nbconvert_exporter": "python",
   "pygments_lexer": "ipython3",
   "version": "3.11.5"
  }
 },
 "nbformat": 4,
 "nbformat_minor": 5
}
